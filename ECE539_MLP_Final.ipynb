{
  "cells": [
    {
      "cell_type": "code",
      "execution_count": null,
      "metadata": {
        "colab": {
          "base_uri": "https://localhost:8080/"
        },
        "id": "CWX2t-hM0Nqe",
        "outputId": "674abf2b-d092-4614-aa30-e2244cf5e625"
      },
      "outputs": [
        {
          "output_type": "stream",
          "name": "stdout",
          "text": [
            "Mounted at /content/drive\n"
          ]
        }
      ],
      "source": [
        "from google.colab import drive\n",
        "drive.mount('/content/drive')"
      ]
    },
    {
      "cell_type": "code",
      "execution_count": null,
      "metadata": {
        "id": "vCAapvh0pIIN"
      },
      "outputs": [],
      "source": [
        "import pandas as pd\n",
        "from sklearn.model_selection import train_test_split\n",
        "import numpy as np\n",
        "import tensorflow as tf\n",
        "from tensorflow import keras"
      ]
    },
    {
      "cell_type": "markdown",
      "source": [
        "# Define Functions #\n"
      ],
      "metadata": {
        "id": "PkIqzZQf-Mga"
      }
    },
    {
      "cell_type": "code",
      "source": [
        "\"\"\"\n",
        "Categorize the labels from a pandas Series\n",
        "\"\"\"\n",
        "def categorize(labels):\n",
        "  # Sort the data\n",
        "  total_labels = np.sort(labels.unique())\n",
        "\n",
        "  # Map the labels \n",
        "  mapping = {}\n",
        "  for x in range(len(total_labels)):\n",
        "    mapping[total_labels[x]] = x\n",
        "  \n",
        "  # Change the series into a numpy array\n",
        "  numpy_temp = pd.Series(labels).to_numpy()\n",
        "\n",
        "  # get a new array without the keys\n",
        "  for x in range(len(numpy_temp)):\n",
        "    numpy_temp[x] = mapping[numpy_temp[x]]\n",
        "\n",
        "  return numpy_temp"
      ],
      "metadata": {
        "id": "MQtsH5b89PiB"
      },
      "execution_count": null,
      "outputs": []
    },
    {
      "cell_type": "code",
      "source": [
        "def redefine(array):\n",
        "  count = 0\n",
        "  for i in array:\n",
        "    if i <= 10:\n",
        "      array[count] = 0\n",
        "    elif 10 < i <= 20:\n",
        "      array[count] = 1\n",
        "    elif 20 < i <= 30:\n",
        "      array[count] = 2\n",
        "    elif 30 < i <= 40:\n",
        "      array[count] = 3\n",
        "    elif 40 < i <= 50:\n",
        "      array[count] = 4\n",
        "    elif i > 50:\n",
        "      array[count] = 5\n",
        "    count += 1\n",
        "  #print(array)\n",
        "  return array"
      ],
      "metadata": {
        "id": "QK7D6M_UIJNR"
      },
      "execution_count": null,
      "outputs": []
    },
    {
      "cell_type": "markdown",
      "metadata": {
        "id": "aq0wtRVbjiiQ"
      },
      "source": [
        "#Obtain data"
      ]
    },
    {
      "cell_type": "code",
      "execution_count": null,
      "metadata": {
        "id": "hfSNM7a7pOv7"
      },
      "outputs": [],
      "source": [
        "D = pd.read_csv(\"/content/drive/MyDrive/Colab Notebooks/ECE539_FinalProject/parkinsons_updrs.csv\")"
      ]
    },
    {
      "cell_type": "code",
      "execution_count": null,
      "metadata": {
        "id": "sJ2OHunRhrhQ"
      },
      "outputs": [],
      "source": [
        "# get the labels of the columns we want to use\n",
        "y_total = D[\"total_UPDRS\"]\n",
        "y_motor = D[\"motor_UPDRS\"]\n",
        "# Remove the unwanted columns from the data set\n",
        "X = D.drop([\"total_UPDRS\",\"motor_UPDRS\", \"subject#\"], axis=1)\n",
        "# Round the values\n",
        "y_total = y_total.round(0)\n",
        "y_motor = y_motor.round(0)"
      ]
    },
    {
      "cell_type": "code",
      "source": [
        "y_total = redefine(y_total)\n",
        "y_motor = redefine(y_motor)"
      ],
      "metadata": {
        "id": "fpC6IT9MIOng"
      },
      "execution_count": null,
      "outputs": []
    },
    {
      "cell_type": "markdown",
      "source": [
        "## Normalize Data"
      ],
      "metadata": {
        "id": "BBT6_VO-gU25"
      }
    },
    {
      "cell_type": "code",
      "source": [
        "X = (X - X.mean())/X.std()"
      ],
      "metadata": {
        "id": "v_RoNyuFgUJB"
      },
      "execution_count": null,
      "outputs": []
    },
    {
      "cell_type": "markdown",
      "metadata": {
        "id": "Shs9wjINjfj0"
      },
      "source": [
        "#Reduce dataset and split into Total and Motor UPDRS train and test sets"
      ]
    },
    {
      "cell_type": "code",
      "execution_count": null,
      "metadata": {
        "id": "dNcR1OMvjUxw"
      },
      "outputs": [],
      "source": [
        "X_use_total, X_notused, y_used_total, y_notused = train_test_split(X, y_total, train_size = 0.05)\n",
        "\n",
        "# train and test split for total updrs\n",
        "X_train_total, X_test_total, y_train_total, y_test_total = train_test_split(X, y_total, train_size = 0.8, stratify = y_total)"
      ]
    },
    {
      "cell_type": "code",
      "execution_count": null,
      "metadata": {
        "id": "_nlgmyYwjZOh"
      },
      "outputs": [],
      "source": [
        "X_use_motor, X_notused, y_used_motor, y_notused = train_test_split(X, y_motor, train_size = 0.05)\n",
        "\n",
        "# train and test split for motor updrs\n",
        "X_train_motor, X_test_motor, y_train_motor, y_test_motor = train_test_split(X, y_motor, train_size = 0.8, stratify=y_motor)"
      ]
    },
    {
      "cell_type": "markdown",
      "metadata": {
        "id": "sR27oSU3jxyf"
      },
      "source": [
        "#Multilayer Perceptron\n"
      ]
    },
    {
      "cell_type": "markdown",
      "metadata": {
        "id": "_W8EGosquaQH"
      },
      "source": [
        "#Total UPDRS"
      ]
    },
    {
      "cell_type": "markdown",
      "source": [
        "*One hot encoding*"
      ],
      "metadata": {
        "id": "T0HFPwrD8UjD"
      }
    },
    {
      "cell_type": "code",
      "execution_count": null,
      "metadata": {
        "id": "RXlCw0PMu6cf"
      },
      "outputs": [],
      "source": [
        "y_train_total = keras.utils.to_categorical(categorize(y_train_total))\n",
        "y_test_total = keras.utils.to_categorical(categorize(y_test_total))"
      ]
    },
    {
      "cell_type": "code",
      "execution_count": null,
      "metadata": {
        "id": "6sQv9d5bjcIL"
      },
      "outputs": [],
      "source": [
        "# create keras model with 19-30-30-44 configuration with relu and softmax activation\n",
        "total = tf.keras.models.Sequential([\n",
        "    tf.keras.layers.Dense(30, input_dim=19, activation='relu'),\n",
        "    tf.keras.layers.Dense(30, activation='relu'),\n",
        "    tf.keras.layers.Dense(6, activation='softmax')])\n"
      ]
    },
    {
      "cell_type": "code",
      "source": [
        "from keras.utils.vis_utils import plot_model\n",
        "plot_model(total, show_shapes=True, show_layer_names=True, show_layer_activations=True )"
      ],
      "metadata": {
        "colab": {
          "base_uri": "https://localhost:8080/",
          "height": 422
        },
        "id": "3-L6ZF2RW4wW",
        "outputId": "2c182011-54d6-44f9-ca18-d44c4fe07c53"
      },
      "execution_count": null,
      "outputs": [
        {
          "output_type": "execute_result",
          "data": {
            "text/plain": [
              "<IPython.core.display.Image object>"
            ],
            "image/png": "[encoded data removed]"
          },
          "metadata": {},
          "execution_count": 24
        }
      ]
    },
    {
      "cell_type": "code",
      "execution_count": null,
      "metadata": {
        "id": "IcmjxApOqHzp"
      },
      "outputs": [],
      "source": [
        "# compile the keras model\n",
        "opt = keras.optimizers.Adam(learning_rate=0.01)\n",
        "total.compile(loss='binary_crossentropy', optimizer=opt, \n",
        "              metrics=['accuracy'])"
      ]
    },
    {
      "cell_type": "code",
      "execution_count": null,
      "metadata": {
        "id": "8OLkpKzsqKP3",
        "colab": {
          "base_uri": "https://localhost:8080/"
        },
        "outputId": "0cc9697d-694c-4e76-e0f6-db3181743b68"
      },
      "outputs": [
        {
          "output_type": "stream",
          "name": "stdout",
          "text": [
            "Epoch 1/150\n",
            "157/157 [==============================] - 4s 15ms/step - loss: 0.3557 - accuracy: 0.4615 - val_loss: 0.3012 - val_accuracy: 0.5566\n",
            "Epoch 2/150\n",
            "157/157 [==============================] - 1s 5ms/step - loss: 0.2898 - accuracy: 0.5700 - val_loss: 0.2818 - val_accuracy: 0.5932\n",
            "Epoch 3/150\n",
            "157/157 [==============================] - 1s 5ms/step - loss: 0.2622 - accuracy: 0.6336 - val_loss: 0.2585 - val_accuracy: 0.6417\n",
            "Epoch 4/150\n",
            "157/157 [==============================] - 1s 5ms/step - loss: 0.2427 - accuracy: 0.6653 - val_loss: 0.2520 - val_accuracy: 0.6766\n",
            "Epoch 5/150\n",
            "157/157 [==============================] - 1s 5ms/step - loss: 0.2284 - accuracy: 0.6896 - val_loss: 0.2270 - val_accuracy: 0.6996\n",
            "Epoch 6/150\n",
            "157/157 [==============================] - 1s 5ms/step - loss: 0.2118 - accuracy: 0.7202 - val_loss: 0.2162 - val_accuracy: 0.7166\n",
            "Epoch 7/150\n",
            "157/157 [==============================] - 1s 5ms/step - loss: 0.2040 - accuracy: 0.7353 - val_loss: 0.2007 - val_accuracy: 0.7438\n",
            "Epoch 8/150\n",
            "157/157 [==============================] - 1s 5ms/step - loss: 0.1929 - accuracy: 0.7557 - val_loss: 0.1913 - val_accuracy: 0.7660\n",
            "Epoch 9/150\n",
            "157/157 [==============================] - 1s 5ms/step - loss: 0.1843 - accuracy: 0.7713 - val_loss: 0.1923 - val_accuracy: 0.7626\n",
            "Epoch 10/150\n",
            "157/157 [==============================] - 1s 5ms/step - loss: 0.1718 - accuracy: 0.7877 - val_loss: 0.1775 - val_accuracy: 0.7847\n",
            "Epoch 11/150\n",
            "157/157 [==============================] - 1s 5ms/step - loss: 0.1638 - accuracy: 0.8047 - val_loss: 0.1820 - val_accuracy: 0.7855\n",
            "Epoch 12/150\n",
            "157/157 [==============================] - 1s 5ms/step - loss: 0.1647 - accuracy: 0.7996 - val_loss: 0.1758 - val_accuracy: 0.7991\n",
            "Epoch 13/150\n",
            "157/157 [==============================] - 1s 5ms/step - loss: 0.1559 - accuracy: 0.8177 - val_loss: 0.1681 - val_accuracy: 0.8077\n",
            "Epoch 14/150\n",
            "157/157 [==============================] - 1s 5ms/step - loss: 0.1533 - accuracy: 0.8204 - val_loss: 0.1645 - val_accuracy: 0.8094\n",
            "Epoch 15/150\n",
            "157/157 [==============================] - 1s 5ms/step - loss: 0.1477 - accuracy: 0.8219 - val_loss: 0.1630 - val_accuracy: 0.8136\n",
            "Epoch 16/150\n",
            "157/157 [==============================] - 1s 5ms/step - loss: 0.1424 - accuracy: 0.8372 - val_loss: 0.1747 - val_accuracy: 0.8034\n",
            "Epoch 17/150\n",
            "157/157 [==============================] - 1s 5ms/step - loss: 0.1448 - accuracy: 0.8309 - val_loss: 0.1589 - val_accuracy: 0.8179\n",
            "Epoch 18/150\n",
            "157/157 [==============================] - 1s 5ms/step - loss: 0.1404 - accuracy: 0.8396 - val_loss: 0.1661 - val_accuracy: 0.8153\n",
            "Epoch 19/150\n",
            "157/157 [==============================] - 1s 5ms/step - loss: 0.1367 - accuracy: 0.8449 - val_loss: 0.1895 - val_accuracy: 0.7881\n",
            "Epoch 20/150\n",
            "157/157 [==============================] - 1s 5ms/step - loss: 0.1414 - accuracy: 0.8379 - val_loss: 0.1651 - val_accuracy: 0.8170\n",
            "Epoch 21/150\n",
            "157/157 [==============================] - 1s 5ms/step - loss: 0.1383 - accuracy: 0.8364 - val_loss: 0.1633 - val_accuracy: 0.8179\n",
            "Epoch 22/150\n",
            "157/157 [==============================] - 1s 5ms/step - loss: 0.1328 - accuracy: 0.8498 - val_loss: 0.1723 - val_accuracy: 0.8162\n",
            "Epoch 23/150\n",
            "157/157 [==============================] - 1s 5ms/step - loss: 0.1304 - accuracy: 0.8521 - val_loss: 0.1537 - val_accuracy: 0.8306\n",
            "Epoch 24/150\n",
            "157/157 [==============================] - 1s 5ms/step - loss: 0.1244 - accuracy: 0.8596 - val_loss: 0.1641 - val_accuracy: 0.8162\n",
            "Epoch 25/150\n",
            "157/157 [==============================] - 1s 5ms/step - loss: 0.1236 - accuracy: 0.8619 - val_loss: 0.1656 - val_accuracy: 0.8085\n",
            "Epoch 26/150\n",
            "157/157 [==============================] - 1s 5ms/step - loss: 0.1241 - accuracy: 0.8634 - val_loss: 0.1669 - val_accuracy: 0.8264\n",
            "Epoch 27/150\n",
            "157/157 [==============================] - 1s 5ms/step - loss: 0.1190 - accuracy: 0.8598 - val_loss: 0.1564 - val_accuracy: 0.8213\n",
            "Epoch 28/150\n",
            "157/157 [==============================] - 1s 5ms/step - loss: 0.1251 - accuracy: 0.8598 - val_loss: 0.1542 - val_accuracy: 0.8366\n",
            "Epoch 29/150\n",
            "157/157 [==============================] - 1s 5ms/step - loss: 0.1211 - accuracy: 0.8634 - val_loss: 0.1677 - val_accuracy: 0.7915\n",
            "Epoch 30/150\n",
            "157/157 [==============================] - 1s 5ms/step - loss: 0.1291 - accuracy: 0.8566 - val_loss: 0.1623 - val_accuracy: 0.8230\n",
            "Epoch 31/150\n",
            "157/157 [==============================] - 1s 5ms/step - loss: 0.1191 - accuracy: 0.8683 - val_loss: 0.1522 - val_accuracy: 0.8306\n",
            "Epoch 32/150\n",
            "157/157 [==============================] - 1s 5ms/step - loss: 0.1133 - accuracy: 0.8764 - val_loss: 0.1654 - val_accuracy: 0.8281\n",
            "Epoch 33/150\n",
            "157/157 [==============================] - 1s 5ms/step - loss: 0.1190 - accuracy: 0.8651 - val_loss: 0.1585 - val_accuracy: 0.8213\n",
            "Epoch 34/150\n",
            "157/157 [==============================] - 1s 5ms/step - loss: 0.1171 - accuracy: 0.8662 - val_loss: 0.1565 - val_accuracy: 0.8170\n",
            "Epoch 35/150\n",
            "157/157 [==============================] - 1s 5ms/step - loss: 0.1146 - accuracy: 0.8774 - val_loss: 0.1616 - val_accuracy: 0.8230\n",
            "Epoch 36/150\n",
            "157/157 [==============================] - 1s 5ms/step - loss: 0.1106 - accuracy: 0.8772 - val_loss: 0.1542 - val_accuracy: 0.8323\n",
            "Epoch 37/150\n",
            "157/157 [==============================] - 1s 9ms/step - loss: 0.1117 - accuracy: 0.8766 - val_loss: 0.1466 - val_accuracy: 0.8426\n",
            "Epoch 38/150\n",
            "157/157 [==============================] - 2s 10ms/step - loss: 0.1128 - accuracy: 0.8743 - val_loss: 0.1511 - val_accuracy: 0.8298\n",
            "Epoch 39/150\n",
            "157/157 [==============================] - 2s 10ms/step - loss: 0.1130 - accuracy: 0.8791 - val_loss: 0.1663 - val_accuracy: 0.8145\n",
            "Epoch 40/150\n",
            "157/157 [==============================] - 2s 10ms/step - loss: 0.1137 - accuracy: 0.8772 - val_loss: 0.1451 - val_accuracy: 0.8383\n",
            "Epoch 41/150\n",
            "157/157 [==============================] - 1s 9ms/step - loss: 0.1046 - accuracy: 0.8885 - val_loss: 0.1583 - val_accuracy: 0.8179\n",
            "Epoch 42/150\n",
            "157/157 [==============================] - 1s 9ms/step - loss: 0.1088 - accuracy: 0.8860 - val_loss: 0.1512 - val_accuracy: 0.8357\n",
            "Epoch 43/150\n",
            "157/157 [==============================] - 1s 8ms/step - loss: 0.1086 - accuracy: 0.8840 - val_loss: 0.1696 - val_accuracy: 0.8357\n",
            "Epoch 44/150\n",
            "157/157 [==============================] - 1s 9ms/step - loss: 0.1115 - accuracy: 0.8762 - val_loss: 0.1740 - val_accuracy: 0.8128\n",
            "Epoch 45/150\n",
            "157/157 [==============================] - 2s 10ms/step - loss: 0.1072 - accuracy: 0.8832 - val_loss: 0.1389 - val_accuracy: 0.8477\n",
            "Epoch 46/150\n",
            "157/157 [==============================] - 1s 9ms/step - loss: 0.1009 - accuracy: 0.8874 - val_loss: 0.1511 - val_accuracy: 0.8374\n",
            "Epoch 47/150\n",
            "157/157 [==============================] - 2s 10ms/step - loss: 0.1032 - accuracy: 0.8874 - val_loss: 0.1556 - val_accuracy: 0.8298\n",
            "Epoch 48/150\n",
            "157/157 [==============================] - 1s 9ms/step - loss: 0.1036 - accuracy: 0.8879 - val_loss: 0.1467 - val_accuracy: 0.8511\n",
            "Epoch 49/150\n",
            "157/157 [==============================] - 1s 9ms/step - loss: 0.1055 - accuracy: 0.8860 - val_loss: 0.1548 - val_accuracy: 0.8366\n",
            "Epoch 50/150\n",
            "157/157 [==============================] - 1s 9ms/step - loss: 0.1051 - accuracy: 0.8877 - val_loss: 0.1569 - val_accuracy: 0.8306\n",
            "Epoch 51/150\n",
            "157/157 [==============================] - 1s 9ms/step - loss: 0.1009 - accuracy: 0.8919 - val_loss: 0.1475 - val_accuracy: 0.8434\n",
            "Epoch 52/150\n",
            "157/157 [==============================] - 2s 10ms/step - loss: 0.0972 - accuracy: 0.8974 - val_loss: 0.1408 - val_accuracy: 0.8604\n",
            "Epoch 53/150\n",
            "157/157 [==============================] - 2s 10ms/step - loss: 0.0974 - accuracy: 0.8968 - val_loss: 0.1430 - val_accuracy: 0.8494\n",
            "Epoch 54/150\n",
            "157/157 [==============================] - 1s 9ms/step - loss: 0.0917 - accuracy: 0.9019 - val_loss: 0.1474 - val_accuracy: 0.8570\n",
            "Epoch 55/150\n",
            "157/157 [==============================] - 1s 9ms/step - loss: 0.1019 - accuracy: 0.8994 - val_loss: 0.1432 - val_accuracy: 0.8536\n",
            "Epoch 56/150\n",
            "157/157 [==============================] - 2s 10ms/step - loss: 0.1000 - accuracy: 0.8926 - val_loss: 0.1462 - val_accuracy: 0.8357\n",
            "Epoch 57/150\n",
            "157/157 [==============================] - 1s 9ms/step - loss: 0.0934 - accuracy: 0.8998 - val_loss: 0.1327 - val_accuracy: 0.8553\n",
            "Epoch 58/150\n",
            "157/157 [==============================] - 2s 10ms/step - loss: 0.0945 - accuracy: 0.8985 - val_loss: 0.1418 - val_accuracy: 0.8638\n",
            "Epoch 59/150\n",
            "157/157 [==============================] - 2s 10ms/step - loss: 0.0929 - accuracy: 0.8994 - val_loss: 0.1488 - val_accuracy: 0.8451\n",
            "Epoch 60/150\n",
            "157/157 [==============================] - 2s 10ms/step - loss: 0.0950 - accuracy: 0.9004 - val_loss: 0.1523 - val_accuracy: 0.8443\n",
            "Epoch 61/150\n",
            "157/157 [==============================] - 1s 9ms/step - loss: 0.0970 - accuracy: 0.8991 - val_loss: 0.1407 - val_accuracy: 0.8443\n",
            "Epoch 62/150\n",
            "157/157 [==============================] - 1s 9ms/step - loss: 0.0923 - accuracy: 0.9011 - val_loss: 0.1349 - val_accuracy: 0.8579\n",
            "Epoch 63/150\n",
            "157/157 [==============================] - 1s 9ms/step - loss: 0.0909 - accuracy: 0.9036 - val_loss: 0.1565 - val_accuracy: 0.8570\n",
            "Epoch 64/150\n",
            "157/157 [==============================] - 1s 8ms/step - loss: 0.0873 - accuracy: 0.9091 - val_loss: 0.1392 - val_accuracy: 0.8604\n",
            "Epoch 65/150\n",
            "157/157 [==============================] - 1s 9ms/step - loss: 0.0906 - accuracy: 0.9062 - val_loss: 0.1484 - val_accuracy: 0.8511\n",
            "Epoch 66/150\n",
            "157/157 [==============================] - 2s 10ms/step - loss: 0.0873 - accuracy: 0.9074 - val_loss: 0.1539 - val_accuracy: 0.8494\n",
            "Epoch 67/150\n",
            "157/157 [==============================] - 1s 9ms/step - loss: 0.0906 - accuracy: 0.9028 - val_loss: 0.1469 - val_accuracy: 0.8494\n",
            "Epoch 68/150\n",
            "157/157 [==============================] - 1s 9ms/step - loss: 0.0900 - accuracy: 0.9026 - val_loss: 0.1404 - val_accuracy: 0.8596\n",
            "Epoch 69/150\n",
            "157/157 [==============================] - 1s 8ms/step - loss: 0.0926 - accuracy: 0.9060 - val_loss: 0.1530 - val_accuracy: 0.8528\n",
            "Epoch 70/150\n",
            "157/157 [==============================] - 1s 9ms/step - loss: 0.0892 - accuracy: 0.9072 - val_loss: 0.1429 - val_accuracy: 0.8630\n",
            "Epoch 71/150\n",
            "157/157 [==============================] - 1s 9ms/step - loss: 0.0940 - accuracy: 0.9081 - val_loss: 0.1594 - val_accuracy: 0.8460\n",
            "Epoch 72/150\n",
            "157/157 [==============================] - 2s 10ms/step - loss: 0.0928 - accuracy: 0.9072 - val_loss: 0.1611 - val_accuracy: 0.8451\n",
            "Epoch 73/150\n",
            "157/157 [==============================] - 1s 9ms/step - loss: 0.0871 - accuracy: 0.9087 - val_loss: 0.1366 - val_accuracy: 0.8613\n",
            "Epoch 74/150\n",
            "157/157 [==============================] - 1s 9ms/step - loss: 0.0855 - accuracy: 0.9140 - val_loss: 0.1527 - val_accuracy: 0.8655\n",
            "Epoch 75/150\n",
            "157/157 [==============================] - 2s 10ms/step - loss: 0.0868 - accuracy: 0.9113 - val_loss: 0.1419 - val_accuracy: 0.8655\n",
            "Epoch 76/150\n",
            "157/157 [==============================] - 1s 8ms/step - loss: 0.0864 - accuracy: 0.9119 - val_loss: 0.1539 - val_accuracy: 0.8519\n",
            "Epoch 77/150\n",
            "157/157 [==============================] - 1s 8ms/step - loss: 0.0864 - accuracy: 0.9126 - val_loss: 0.1512 - val_accuracy: 0.8562\n",
            "Epoch 78/150\n",
            "157/157 [==============================] - 1s 9ms/step - loss: 0.0850 - accuracy: 0.9113 - val_loss: 0.1529 - val_accuracy: 0.8536\n",
            "Epoch 79/150\n",
            "157/157 [==============================] - 1s 8ms/step - loss: 0.0822 - accuracy: 0.9157 - val_loss: 0.1494 - val_accuracy: 0.8519\n",
            "Epoch 80/150\n",
            "157/157 [==============================] - 2s 10ms/step - loss: 0.0832 - accuracy: 0.9164 - val_loss: 0.1578 - val_accuracy: 0.8638\n",
            "Epoch 81/150\n",
            "157/157 [==============================] - 1s 10ms/step - loss: 0.0864 - accuracy: 0.9136 - val_loss: 0.1394 - val_accuracy: 0.8698\n",
            "Epoch 82/150\n",
            "157/157 [==============================] - 2s 10ms/step - loss: 0.0822 - accuracy: 0.9160 - val_loss: 0.1520 - val_accuracy: 0.8655\n",
            "Epoch 83/150\n",
            "157/157 [==============================] - 2s 10ms/step - loss: 0.0884 - accuracy: 0.9104 - val_loss: 0.1540 - val_accuracy: 0.8596\n",
            "Epoch 84/150\n",
            "157/157 [==============================] - 1s 9ms/step - loss: 0.0854 - accuracy: 0.9172 - val_loss: 0.1493 - val_accuracy: 0.8587\n",
            "Epoch 85/150\n",
            "157/157 [==============================] - 2s 10ms/step - loss: 0.0786 - accuracy: 0.9204 - val_loss: 0.1329 - val_accuracy: 0.8757\n",
            "Epoch 86/150\n",
            "157/157 [==============================] - 1s 9ms/step - loss: 0.0799 - accuracy: 0.9223 - val_loss: 0.1550 - val_accuracy: 0.8477\n",
            "Epoch 87/150\n",
            "157/157 [==============================] - 2s 12ms/step - loss: 0.0832 - accuracy: 0.9143 - val_loss: 0.1379 - val_accuracy: 0.8749\n",
            "Epoch 88/150\n",
            "157/157 [==============================] - 2s 10ms/step - loss: 0.0826 - accuracy: 0.9196 - val_loss: 0.1237 - val_accuracy: 0.8817\n",
            "Epoch 89/150\n",
            "157/157 [==============================] - 1s 9ms/step - loss: 0.0833 - accuracy: 0.9194 - val_loss: 0.1343 - val_accuracy: 0.8766\n",
            "Epoch 90/150\n",
            "157/157 [==============================] - 1s 9ms/step - loss: 0.0819 - accuracy: 0.9149 - val_loss: 0.1412 - val_accuracy: 0.8740\n",
            "Epoch 91/150\n",
            "157/157 [==============================] - 2s 12ms/step - loss: 0.0776 - accuracy: 0.9240 - val_loss: 0.1309 - val_accuracy: 0.8774\n",
            "Epoch 92/150\n",
            "157/157 [==============================] - 1s 5ms/step - loss: 0.0795 - accuracy: 0.9206 - val_loss: 0.1461 - val_accuracy: 0.8596\n",
            "Epoch 93/150\n",
            "157/157 [==============================] - 1s 5ms/step - loss: 0.0806 - accuracy: 0.9211 - val_loss: 0.1349 - val_accuracy: 0.8791\n",
            "Epoch 94/150\n",
            "157/157 [==============================] - 1s 5ms/step - loss: 0.0835 - accuracy: 0.9209 - val_loss: 0.1415 - val_accuracy: 0.8774\n",
            "Epoch 95/150\n",
            "157/157 [==============================] - 1s 5ms/step - loss: 0.0884 - accuracy: 0.9153 - val_loss: 0.1303 - val_accuracy: 0.8740\n",
            "Epoch 96/150\n",
            "157/157 [==============================] - 1s 5ms/step - loss: 0.0765 - accuracy: 0.9274 - val_loss: 0.1287 - val_accuracy: 0.8800\n",
            "Epoch 97/150\n",
            "157/157 [==============================] - 1s 5ms/step - loss: 0.0828 - accuracy: 0.9200 - val_loss: 0.1411 - val_accuracy: 0.8672\n",
            "Epoch 98/150\n",
            "157/157 [==============================] - 1s 5ms/step - loss: 0.0742 - accuracy: 0.9221 - val_loss: 0.1331 - val_accuracy: 0.8749\n",
            "Epoch 99/150\n",
            "157/157 [==============================] - 1s 6ms/step - loss: 0.0749 - accuracy: 0.9243 - val_loss: 0.1439 - val_accuracy: 0.8664\n",
            "Epoch 100/150\n",
            "157/157 [==============================] - 1s 6ms/step - loss: 0.0739 - accuracy: 0.9251 - val_loss: 0.1442 - val_accuracy: 0.8698\n",
            "Epoch 101/150\n",
            "157/157 [==============================] - 1s 6ms/step - loss: 0.0785 - accuracy: 0.9219 - val_loss: 0.1365 - val_accuracy: 0.8698\n",
            "Epoch 102/150\n",
            "157/157 [==============================] - 1s 6ms/step - loss: 0.0865 - accuracy: 0.9179 - val_loss: 0.1367 - val_accuracy: 0.8664\n",
            "Epoch 103/150\n",
            "157/157 [==============================] - 1s 6ms/step - loss: 0.0765 - accuracy: 0.9264 - val_loss: 0.1655 - val_accuracy: 0.8562\n",
            "Epoch 104/150\n",
            "157/157 [==============================] - 1s 5ms/step - loss: 0.0708 - accuracy: 0.9300 - val_loss: 0.1298 - val_accuracy: 0.8774\n",
            "Epoch 105/150\n",
            "157/157 [==============================] - 1s 6ms/step - loss: 0.0811 - accuracy: 0.9187 - val_loss: 0.1378 - val_accuracy: 0.8681\n",
            "Epoch 106/150\n",
            "157/157 [==============================] - 1s 6ms/step - loss: 0.0784 - accuracy: 0.9230 - val_loss: 0.1370 - val_accuracy: 0.8672\n",
            "Epoch 107/150\n",
            "157/157 [==============================] - 1s 5ms/step - loss: 0.0797 - accuracy: 0.9247 - val_loss: 0.1330 - val_accuracy: 0.8928\n",
            "Epoch 108/150\n",
            "157/157 [==============================] - 1s 5ms/step - loss: 0.0740 - accuracy: 0.9304 - val_loss: 0.1230 - val_accuracy: 0.8902\n",
            "Epoch 109/150\n",
            "157/157 [==============================] - 1s 5ms/step - loss: 0.0685 - accuracy: 0.9323 - val_loss: 0.1331 - val_accuracy: 0.8851\n",
            "Epoch 110/150\n",
            "157/157 [==============================] - 1s 5ms/step - loss: 0.0744 - accuracy: 0.9279 - val_loss: 0.1333 - val_accuracy: 0.8766\n",
            "Epoch 111/150\n",
            "157/157 [==============================] - 1s 6ms/step - loss: 0.0733 - accuracy: 0.9304 - val_loss: 0.1798 - val_accuracy: 0.8570\n",
            "Epoch 112/150\n",
            "157/157 [==============================] - 1s 5ms/step - loss: 0.0750 - accuracy: 0.9266 - val_loss: 0.1349 - val_accuracy: 0.8809\n",
            "Epoch 113/150\n",
            "157/157 [==============================] - 1s 5ms/step - loss: 0.0728 - accuracy: 0.9306 - val_loss: 0.1294 - val_accuracy: 0.8766\n",
            "Epoch 114/150\n",
            "157/157 [==============================] - 1s 6ms/step - loss: 0.0710 - accuracy: 0.9289 - val_loss: 0.1389 - val_accuracy: 0.8749\n",
            "Epoch 115/150\n",
            "157/157 [==============================] - 1s 6ms/step - loss: 0.0704 - accuracy: 0.9319 - val_loss: 0.1322 - val_accuracy: 0.8919\n",
            "Epoch 116/150\n",
            "157/157 [==============================] - 1s 5ms/step - loss: 0.0767 - accuracy: 0.9268 - val_loss: 0.1446 - val_accuracy: 0.8689\n",
            "Epoch 117/150\n",
            "157/157 [==============================] - 1s 5ms/step - loss: 0.0715 - accuracy: 0.9268 - val_loss: 0.1612 - val_accuracy: 0.8613\n",
            "Epoch 118/150\n",
            "157/157 [==============================] - 1s 6ms/step - loss: 0.0801 - accuracy: 0.9257 - val_loss: 0.1562 - val_accuracy: 0.8681\n",
            "Epoch 119/150\n",
            "157/157 [==============================] - 1s 6ms/step - loss: 0.0936 - accuracy: 0.9113 - val_loss: 0.1516 - val_accuracy: 0.8681\n",
            "Epoch 120/150\n",
            "157/157 [==============================] - 1s 9ms/step - loss: 0.0767 - accuracy: 0.9274 - val_loss: 0.1322 - val_accuracy: 0.8843\n",
            "Epoch 121/150\n",
            "157/157 [==============================] - 1s 6ms/step - loss: 0.0680 - accuracy: 0.9328 - val_loss: 0.1218 - val_accuracy: 0.8945\n",
            "Epoch 122/150\n",
            "157/157 [==============================] - 1s 5ms/step - loss: 0.0672 - accuracy: 0.9355 - val_loss: 0.1353 - val_accuracy: 0.8783\n",
            "Epoch 123/150\n",
            "157/157 [==============================] - 1s 5ms/step - loss: 0.0685 - accuracy: 0.9347 - val_loss: 0.1423 - val_accuracy: 0.8757\n",
            "Epoch 124/150\n",
            "157/157 [==============================] - 1s 5ms/step - loss: 0.0687 - accuracy: 0.9383 - val_loss: 0.1379 - val_accuracy: 0.8706\n",
            "Epoch 125/150\n",
            "157/157 [==============================] - 1s 5ms/step - loss: 0.0695 - accuracy: 0.9334 - val_loss: 0.1305 - val_accuracy: 0.8868\n",
            "Epoch 126/150\n",
            "157/157 [==============================] - 1s 5ms/step - loss: 0.0738 - accuracy: 0.9317 - val_loss: 0.1329 - val_accuracy: 0.8885\n",
            "Epoch 127/150\n",
            "157/157 [==============================] - 1s 6ms/step - loss: 0.0706 - accuracy: 0.9304 - val_loss: 0.1283 - val_accuracy: 0.8851\n",
            "Epoch 128/150\n",
            "157/157 [==============================] - 1s 6ms/step - loss: 0.0649 - accuracy: 0.9370 - val_loss: 0.1384 - val_accuracy: 0.8723\n",
            "Epoch 129/150\n",
            "157/157 [==============================] - 1s 6ms/step - loss: 0.0701 - accuracy: 0.9319 - val_loss: 0.1298 - val_accuracy: 0.8860\n",
            "Epoch 130/150\n",
            "157/157 [==============================] - 1s 6ms/step - loss: 0.0647 - accuracy: 0.9383 - val_loss: 0.1198 - val_accuracy: 0.8894\n",
            "Epoch 131/150\n",
            "157/157 [==============================] - 1s 5ms/step - loss: 0.0633 - accuracy: 0.9404 - val_loss: 0.1537 - val_accuracy: 0.8766\n",
            "Epoch 132/150\n",
            "157/157 [==============================] - 1s 5ms/step - loss: 0.0693 - accuracy: 0.9328 - val_loss: 0.1470 - val_accuracy: 0.8774\n",
            "Epoch 133/150\n",
            "157/157 [==============================] - 1s 6ms/step - loss: 0.0743 - accuracy: 0.9326 - val_loss: 0.1449 - val_accuracy: 0.8638\n",
            "Epoch 134/150\n",
            "157/157 [==============================] - 1s 5ms/step - loss: 0.0739 - accuracy: 0.9302 - val_loss: 0.1422 - val_accuracy: 0.8791\n",
            "Epoch 135/150\n",
            "157/157 [==============================] - 1s 5ms/step - loss: 0.0756 - accuracy: 0.9294 - val_loss: 0.1247 - val_accuracy: 0.8936\n",
            "Epoch 136/150\n",
            "157/157 [==============================] - 1s 6ms/step - loss: 0.0693 - accuracy: 0.9349 - val_loss: 0.1409 - val_accuracy: 0.8877\n",
            "Epoch 137/150\n",
            "157/157 [==============================] - 1s 6ms/step - loss: 0.0728 - accuracy: 0.9332 - val_loss: 0.1492 - val_accuracy: 0.8681\n",
            "Epoch 138/150\n",
            "157/157 [==============================] - 1s 6ms/step - loss: 0.0660 - accuracy: 0.9370 - val_loss: 0.1254 - val_accuracy: 0.8928\n",
            "Epoch 139/150\n",
            "157/157 [==============================] - 1s 5ms/step - loss: 0.0642 - accuracy: 0.9357 - val_loss: 0.1307 - val_accuracy: 0.8723\n",
            "Epoch 140/150\n",
            "157/157 [==============================] - 1s 6ms/step - loss: 0.0821 - accuracy: 0.9272 - val_loss: 0.1438 - val_accuracy: 0.8774\n",
            "Epoch 141/150\n",
            "157/157 [==============================] - 1s 6ms/step - loss: 0.0680 - accuracy: 0.9383 - val_loss: 0.1219 - val_accuracy: 0.8902\n",
            "Epoch 142/150\n",
            "157/157 [==============================] - 1s 6ms/step - loss: 0.0634 - accuracy: 0.9404 - val_loss: 0.1430 - val_accuracy: 0.8885\n",
            "Epoch 143/150\n",
            "157/157 [==============================] - 1s 6ms/step - loss: 0.0719 - accuracy: 0.9323 - val_loss: 0.1322 - val_accuracy: 0.8877\n",
            "Epoch 144/150\n",
            "157/157 [==============================] - 1s 6ms/step - loss: 0.0624 - accuracy: 0.9443 - val_loss: 0.1249 - val_accuracy: 0.8826\n",
            "Epoch 145/150\n",
            "157/157 [==============================] - 1s 6ms/step - loss: 0.0657 - accuracy: 0.9379 - val_loss: 0.1509 - val_accuracy: 0.8757\n",
            "Epoch 146/150\n",
            "157/157 [==============================] - 1s 6ms/step - loss: 0.0647 - accuracy: 0.9434 - val_loss: 0.1275 - val_accuracy: 0.8979\n",
            "Epoch 147/150\n",
            "157/157 [==============================] - 1s 6ms/step - loss: 0.0621 - accuracy: 0.9432 - val_loss: 0.1445 - val_accuracy: 0.8860\n",
            "Epoch 148/150\n",
            "157/157 [==============================] - 1s 6ms/step - loss: 0.0584 - accuracy: 0.9447 - val_loss: 0.1334 - val_accuracy: 0.8970\n",
            "Epoch 149/150\n",
            "157/157 [==============================] - 1s 5ms/step - loss: 0.0666 - accuracy: 0.9428 - val_loss: 0.1657 - val_accuracy: 0.8698\n",
            "Epoch 150/150\n",
            "157/157 [==============================] - 1s 5ms/step - loss: 0.0829 - accuracy: 0.9196 - val_loss: 0.1347 - val_accuracy: 0.8851\n"
          ]
        }
      ],
      "source": [
        "# fit the keras model on the total dataset\n",
        "history = total.fit(X_train_total, y_train_total, epochs=150, batch_size=30, validation_data=[X_test_total, y_test_total])"
      ]
    },
    {
      "cell_type": "code",
      "source": [
        "history.history.keys()"
      ],
      "metadata": {
        "id": "0BL3-0PSvOgo",
        "colab": {
          "base_uri": "https://localhost:8080/"
        },
        "outputId": "d6c68e9d-48d5-4187-864b-552e3e3a6b90"
      },
      "execution_count": null,
      "outputs": [
        {
          "output_type": "execute_result",
          "data": {
            "text/plain": [
              "dict_keys(['loss', 'accuracy', 'val_loss', 'val_accuracy'])"
            ]
          },
          "metadata": {},
          "execution_count": 27
        }
      ]
    },
    {
      "cell_type": "code",
      "source": [
        "# summarize history for accuracy\n",
        "import matplotlib.pyplot as plt\n",
        "plt.plot(history.history['accuracy'])\n",
        "plt.plot(history.history[\"val_accuracy\"])\n",
        "plt.title('MLP Total UPDRS Accuracy')\n",
        "plt.ylabel('Accuracy')\n",
        "plt.xlabel('Epoch')\n",
        "plt.legend(['Train', 'Test'], loc='upper left')\n",
        "plt.show()"
      ],
      "metadata": {
        "id": "IKtPccA7urmv",
        "colab": {
          "base_uri": "https://localhost:8080/",
          "height": 295
        },
        "outputId": "191af022-e344-424a-97a1-5d3acb768301"
      },
      "execution_count": null,
      "outputs": [
        {
          "output_type": "display_data",
          "data": {
            "text/plain": [
              "<Figure size 432x288 with 1 Axes>"
            ],
            "image/png": "[encoded data removed]"
          },
          "metadata": {
            "needs_background": "light"
          }
        }
      ]
    },
    {
      "cell_type": "code",
      "source": [
        "# summarize history for loss\n",
        "plt.plot(history.history['loss'])\n",
        "plt.plot(history.history['val_loss'])\n",
        "plt.title('MLP Total UPDRS Loss')\n",
        "plt.ylabel('Loss')\n",
        "plt.xlabel('Epoch')\n",
        "plt.legend(['Train', 'Test'], loc='upper left')\n",
        "plt.show()"
      ],
      "metadata": {
        "id": "0oTIeJqUuugj",
        "colab": {
          "base_uri": "https://localhost:8080/",
          "height": 295
        },
        "outputId": "88b2cbb3-936d-43d8-9af3-635e525c41df"
      },
      "execution_count": null,
      "outputs": [
        {
          "output_type": "display_data",
          "data": {
            "text/plain": [
              "<Figure size 432x288 with 1 Axes>"
            ],
            "image/png": "[encoded data removed]"
          },
          "metadata": {
            "needs_background": "light"
          }
        }
      ]
    },
    {
      "cell_type": "markdown",
      "source": [
        "#Motor UPDRS"
      ],
      "metadata": {
        "id": "1FegnnSqwHtv"
      }
    },
    {
      "cell_type": "code",
      "source": [
        "y_train_motor = keras.utils.to_categorical(categorize(y_train_motor))\n",
        "y_test_motor = keras.utils.to_categorical(categorize(y_test_motor))"
      ],
      "metadata": {
        "id": "1nv1ASQAwB4x"
      },
      "execution_count": null,
      "outputs": []
    },
    {
      "cell_type": "code",
      "source": [
        "# create keras model with 19-30-30-33 configuration with relu and softmax activation\n",
        "motor = tf.keras.models.Sequential([\n",
        "    tf.keras.layers.Dense(30, input_dim=19, activation='relu'),\n",
        "    tf.keras.layers.Dense(30, activation='relu'),\n",
        "    tf.keras.layers.Dense(4, activation='softmax')])"
      ],
      "metadata": {
        "id": "JhMsRKJVwahr"
      },
      "execution_count": null,
      "outputs": []
    },
    {
      "cell_type": "code",
      "source": [
        "# compile the keras model\n",
        "motor.compile(loss='binary_crossentropy', optimizer='adam', \n",
        "              metrics=['accuracy'])"
      ],
      "metadata": {
        "id": "KU8_8PrXwcfs"
      },
      "execution_count": null,
      "outputs": []
    },
    {
      "cell_type": "code",
      "source": [
        "# fit the keras model on the total dataset\n",
        "history1 = motor.fit(X_train_motor, y_train_motor, epochs=150, batch_size=30, validation_data =[X_test_motor, y_test_motor])"
      ],
      "metadata": {
        "colab": {
          "base_uri": "https://localhost:8080/"
        },
        "id": "AN1pf_rWwfjA",
        "outputId": "a9785014-e50d-409b-c54e-a1abbebf9309"
      },
      "execution_count": null,
      "outputs": [
        {
          "output_type": "stream",
          "name": "stdout",
          "text": [
            "Epoch 1/150\n",
            "157/157 [==============================] - 3s 10ms/step - loss: 0.5356 - accuracy: 0.4236 - val_loss: 0.4905 - val_accuracy: 0.4528\n",
            "Epoch 2/150\n",
            "157/157 [==============================] - 1s 5ms/step - loss: 0.4762 - accuracy: 0.4685 - val_loss: 0.4636 - val_accuracy: 0.4945\n",
            "Epoch 3/150\n",
            "157/157 [==============================] - 1s 5ms/step - loss: 0.4516 - accuracy: 0.5162 - val_loss: 0.4422 - val_accuracy: 0.5234\n",
            "Epoch 4/150\n",
            "157/157 [==============================] - 1s 5ms/step - loss: 0.4287 - accuracy: 0.5623 - val_loss: 0.4209 - val_accuracy: 0.5677\n",
            "Epoch 5/150\n",
            "157/157 [==============================] - 1s 5ms/step - loss: 0.4057 - accuracy: 0.5987 - val_loss: 0.4011 - val_accuracy: 0.5864\n",
            "Epoch 6/150\n",
            "157/157 [==============================] - 1s 5ms/step - loss: 0.3844 - accuracy: 0.6326 - val_loss: 0.3834 - val_accuracy: 0.6162\n",
            "Epoch 7/150\n",
            "157/157 [==============================] - 1s 5ms/step - loss: 0.3670 - accuracy: 0.6572 - val_loss: 0.3728 - val_accuracy: 0.6417\n",
            "Epoch 8/150\n",
            "157/157 [==============================] - 1s 5ms/step - loss: 0.3529 - accuracy: 0.6740 - val_loss: 0.3582 - val_accuracy: 0.6553\n",
            "Epoch 9/150\n",
            "157/157 [==============================] - 1s 5ms/step - loss: 0.3414 - accuracy: 0.6909 - val_loss: 0.3484 - val_accuracy: 0.6706\n",
            "Epoch 10/150\n",
            "157/157 [==============================] - 1s 5ms/step - loss: 0.3313 - accuracy: 0.6987 - val_loss: 0.3392 - val_accuracy: 0.6817\n",
            "Epoch 11/150\n",
            "157/157 [==============================] - 1s 5ms/step - loss: 0.3218 - accuracy: 0.7113 - val_loss: 0.3328 - val_accuracy: 0.6860\n",
            "Epoch 12/150\n",
            "157/157 [==============================] - 1s 5ms/step - loss: 0.3126 - accuracy: 0.7223 - val_loss: 0.3258 - val_accuracy: 0.6979\n",
            "Epoch 13/150\n",
            "157/157 [==============================] - 1s 5ms/step - loss: 0.3054 - accuracy: 0.7313 - val_loss: 0.3175 - val_accuracy: 0.7030\n",
            "Epoch 14/150\n",
            "157/157 [==============================] - 1s 5ms/step - loss: 0.2985 - accuracy: 0.7404 - val_loss: 0.3130 - val_accuracy: 0.7166\n",
            "Epoch 15/150\n",
            "157/157 [==============================] - 1s 5ms/step - loss: 0.2913 - accuracy: 0.7498 - val_loss: 0.3103 - val_accuracy: 0.7209\n",
            "Epoch 16/150\n",
            "157/157 [==============================] - 1s 5ms/step - loss: 0.2871 - accuracy: 0.7594 - val_loss: 0.3011 - val_accuracy: 0.7336\n",
            "Epoch 17/150\n",
            "157/157 [==============================] - 1s 5ms/step - loss: 0.2803 - accuracy: 0.7651 - val_loss: 0.2980 - val_accuracy: 0.7413\n",
            "Epoch 18/150\n",
            "157/157 [==============================] - 1s 5ms/step - loss: 0.2752 - accuracy: 0.7715 - val_loss: 0.2935 - val_accuracy: 0.7447\n",
            "Epoch 19/150\n",
            "157/157 [==============================] - 1s 5ms/step - loss: 0.2712 - accuracy: 0.7787 - val_loss: 0.2872 - val_accuracy: 0.7506\n",
            "Epoch 20/150\n",
            "157/157 [==============================] - 1s 5ms/step - loss: 0.2660 - accuracy: 0.7847 - val_loss: 0.2863 - val_accuracy: 0.7481\n",
            "Epoch 21/150\n",
            "157/157 [==============================] - 1s 5ms/step - loss: 0.2610 - accuracy: 0.7906 - val_loss: 0.2831 - val_accuracy: 0.7549\n",
            "Epoch 22/150\n",
            "157/157 [==============================] - 1s 5ms/step - loss: 0.2571 - accuracy: 0.7906 - val_loss: 0.2797 - val_accuracy: 0.7617\n",
            "Epoch 23/150\n",
            "157/157 [==============================] - 1s 5ms/step - loss: 0.2537 - accuracy: 0.8002 - val_loss: 0.2754 - val_accuracy: 0.7770\n",
            "Epoch 24/150\n",
            "157/157 [==============================] - 1s 5ms/step - loss: 0.2497 - accuracy: 0.7994 - val_loss: 0.2703 - val_accuracy: 0.7668\n",
            "Epoch 25/150\n",
            "157/157 [==============================] - 1s 5ms/step - loss: 0.2464 - accuracy: 0.8013 - val_loss: 0.2702 - val_accuracy: 0.7770\n",
            "Epoch 26/150\n",
            "157/157 [==============================] - 1s 5ms/step - loss: 0.2429 - accuracy: 0.8051 - val_loss: 0.2725 - val_accuracy: 0.7668\n",
            "Epoch 27/150\n",
            "157/157 [==============================] - 1s 5ms/step - loss: 0.2398 - accuracy: 0.8074 - val_loss: 0.2654 - val_accuracy: 0.7830\n",
            "Epoch 28/150\n",
            "157/157 [==============================] - 1s 5ms/step - loss: 0.2381 - accuracy: 0.8172 - val_loss: 0.2617 - val_accuracy: 0.7762\n",
            "Epoch 29/150\n",
            "157/157 [==============================] - 1s 5ms/step - loss: 0.2330 - accuracy: 0.8187 - val_loss: 0.2616 - val_accuracy: 0.7864\n",
            "Epoch 30/150\n",
            "157/157 [==============================] - 1s 5ms/step - loss: 0.2307 - accuracy: 0.8179 - val_loss: 0.2625 - val_accuracy: 0.7864\n",
            "Epoch 31/150\n",
            "157/157 [==============================] - 1s 5ms/step - loss: 0.2292 - accuracy: 0.8187 - val_loss: 0.2566 - val_accuracy: 0.7864\n",
            "Epoch 32/150\n",
            "157/157 [==============================] - 1s 5ms/step - loss: 0.2267 - accuracy: 0.8251 - val_loss: 0.2623 - val_accuracy: 0.7847\n",
            "Epoch 33/150\n",
            "157/157 [==============================] - 1s 5ms/step - loss: 0.2239 - accuracy: 0.8287 - val_loss: 0.2533 - val_accuracy: 0.7855\n",
            "Epoch 34/150\n",
            "157/157 [==============================] - 1s 5ms/step - loss: 0.2219 - accuracy: 0.8279 - val_loss: 0.2557 - val_accuracy: 0.7855\n",
            "Epoch 35/150\n",
            "157/157 [==============================] - 1s 8ms/step - loss: 0.2196 - accuracy: 0.8268 - val_loss: 0.2539 - val_accuracy: 0.7906\n",
            "Epoch 36/150\n",
            "157/157 [==============================] - 1s 9ms/step - loss: 0.2178 - accuracy: 0.8311 - val_loss: 0.2523 - val_accuracy: 0.7881\n",
            "Epoch 37/150\n",
            "157/157 [==============================] - 2s 10ms/step - loss: 0.2156 - accuracy: 0.8343 - val_loss: 0.2487 - val_accuracy: 0.8017\n",
            "Epoch 38/150\n",
            "157/157 [==============================] - 1s 7ms/step - loss: 0.2148 - accuracy: 0.8389 - val_loss: 0.2501 - val_accuracy: 0.8017\n",
            "Epoch 39/150\n",
            "157/157 [==============================] - 1s 8ms/step - loss: 0.2124 - accuracy: 0.8357 - val_loss: 0.2488 - val_accuracy: 0.8085\n",
            "Epoch 40/150\n",
            "157/157 [==============================] - 2s 10ms/step - loss: 0.2106 - accuracy: 0.8370 - val_loss: 0.2462 - val_accuracy: 0.7923\n",
            "Epoch 41/150\n",
            "157/157 [==============================] - 1s 9ms/step - loss: 0.2082 - accuracy: 0.8366 - val_loss: 0.2464 - val_accuracy: 0.7889\n",
            "Epoch 42/150\n",
            "157/157 [==============================] - 2s 10ms/step - loss: 0.2061 - accuracy: 0.8436 - val_loss: 0.2442 - val_accuracy: 0.7991\n",
            "Epoch 43/150\n",
            "157/157 [==============================] - 1s 5ms/step - loss: 0.2048 - accuracy: 0.8443 - val_loss: 0.2413 - val_accuracy: 0.8145\n",
            "Epoch 44/150\n",
            "157/157 [==============================] - 1s 6ms/step - loss: 0.2041 - accuracy: 0.8451 - val_loss: 0.2429 - val_accuracy: 0.8009\n",
            "Epoch 45/150\n",
            "157/157 [==============================] - 1s 5ms/step - loss: 0.2028 - accuracy: 0.8436 - val_loss: 0.2460 - val_accuracy: 0.8026\n",
            "Epoch 46/150\n",
            "157/157 [==============================] - 2s 10ms/step - loss: 0.2000 - accuracy: 0.8440 - val_loss: 0.2493 - val_accuracy: 0.8000\n",
            "Epoch 47/150\n",
            "157/157 [==============================] - 2s 10ms/step - loss: 0.1985 - accuracy: 0.8483 - val_loss: 0.2454 - val_accuracy: 0.8009\n",
            "Epoch 48/150\n",
            "157/157 [==============================] - 2s 10ms/step - loss: 0.1993 - accuracy: 0.8485 - val_loss: 0.2425 - val_accuracy: 0.8000\n",
            "Epoch 49/150\n",
            "157/157 [==============================] - 2s 12ms/step - loss: 0.1970 - accuracy: 0.8489 - val_loss: 0.2444 - val_accuracy: 0.8060\n",
            "Epoch 50/150\n",
            "157/157 [==============================] - 2s 13ms/step - loss: 0.1948 - accuracy: 0.8521 - val_loss: 0.2342 - val_accuracy: 0.8136\n",
            "Epoch 51/150\n",
            "157/157 [==============================] - 2s 12ms/step - loss: 0.1954 - accuracy: 0.8504 - val_loss: 0.2415 - val_accuracy: 0.7991\n",
            "Epoch 52/150\n",
            "157/157 [==============================] - 2s 10ms/step - loss: 0.1926 - accuracy: 0.8491 - val_loss: 0.2352 - val_accuracy: 0.8136\n",
            "Epoch 53/150\n",
            "157/157 [==============================] - 2s 10ms/step - loss: 0.1906 - accuracy: 0.8562 - val_loss: 0.2406 - val_accuracy: 0.8000\n",
            "Epoch 54/150\n",
            "157/157 [==============================] - 2s 14ms/step - loss: 0.1884 - accuracy: 0.8585 - val_loss: 0.2374 - val_accuracy: 0.8034\n",
            "Epoch 55/150\n",
            "157/157 [==============================] - 2s 11ms/step - loss: 0.1887 - accuracy: 0.8589 - val_loss: 0.2307 - val_accuracy: 0.8068\n",
            "Epoch 56/150\n",
            "157/157 [==============================] - 2s 10ms/step - loss: 0.1870 - accuracy: 0.8562 - val_loss: 0.2335 - val_accuracy: 0.8136\n",
            "Epoch 57/150\n",
            "157/157 [==============================] - 1s 9ms/step - loss: 0.1857 - accuracy: 0.8594 - val_loss: 0.2333 - val_accuracy: 0.8162\n",
            "Epoch 58/150\n",
            "157/157 [==============================] - 1s 7ms/step - loss: 0.1849 - accuracy: 0.8579 - val_loss: 0.2324 - val_accuracy: 0.8196\n",
            "Epoch 59/150\n",
            "157/157 [==============================] - 1s 6ms/step - loss: 0.1838 - accuracy: 0.8628 - val_loss: 0.2395 - val_accuracy: 0.8179\n",
            "Epoch 60/150\n",
            "157/157 [==============================] - 1s 5ms/step - loss: 0.1829 - accuracy: 0.8621 - val_loss: 0.2322 - val_accuracy: 0.8170\n",
            "Epoch 61/150\n",
            "157/157 [==============================] - 1s 6ms/step - loss: 0.1806 - accuracy: 0.8655 - val_loss: 0.2322 - val_accuracy: 0.8170\n",
            "Epoch 62/150\n",
            "157/157 [==============================] - 1s 6ms/step - loss: 0.1802 - accuracy: 0.8600 - val_loss: 0.2335 - val_accuracy: 0.8153\n",
            "Epoch 63/150\n",
            "157/157 [==============================] - 1s 5ms/step - loss: 0.1787 - accuracy: 0.8651 - val_loss: 0.2290 - val_accuracy: 0.8204\n",
            "Epoch 64/150\n",
            "157/157 [==============================] - 1s 6ms/step - loss: 0.1792 - accuracy: 0.8651 - val_loss: 0.2301 - val_accuracy: 0.8238\n",
            "Epoch 65/150\n",
            "157/157 [==============================] - 1s 5ms/step - loss: 0.1779 - accuracy: 0.8649 - val_loss: 0.2267 - val_accuracy: 0.8264\n",
            "Epoch 66/150\n",
            "157/157 [==============================] - 1s 5ms/step - loss: 0.1768 - accuracy: 0.8664 - val_loss: 0.2275 - val_accuracy: 0.8264\n",
            "Epoch 67/150\n",
            "157/157 [==============================] - 1s 5ms/step - loss: 0.1757 - accuracy: 0.8668 - val_loss: 0.2330 - val_accuracy: 0.8230\n",
            "Epoch 68/150\n",
            "157/157 [==============================] - 1s 6ms/step - loss: 0.1741 - accuracy: 0.8700 - val_loss: 0.2266 - val_accuracy: 0.8170\n",
            "Epoch 69/150\n",
            "157/157 [==============================] - 1s 5ms/step - loss: 0.1739 - accuracy: 0.8672 - val_loss: 0.2278 - val_accuracy: 0.8128\n",
            "Epoch 70/150\n",
            "157/157 [==============================] - 1s 5ms/step - loss: 0.1724 - accuracy: 0.8691 - val_loss: 0.2267 - val_accuracy: 0.8187\n",
            "Epoch 71/150\n",
            "157/157 [==============================] - 1s 5ms/step - loss: 0.1719 - accuracy: 0.8713 - val_loss: 0.2220 - val_accuracy: 0.8272\n",
            "Epoch 72/150\n",
            "157/157 [==============================] - 1s 6ms/step - loss: 0.1719 - accuracy: 0.8694 - val_loss: 0.2209 - val_accuracy: 0.8289\n",
            "Epoch 73/150\n",
            "157/157 [==============================] - 1s 5ms/step - loss: 0.1696 - accuracy: 0.8711 - val_loss: 0.2273 - val_accuracy: 0.8128\n",
            "Epoch 74/150\n",
            "157/157 [==============================] - 1s 5ms/step - loss: 0.1714 - accuracy: 0.8700 - val_loss: 0.2227 - val_accuracy: 0.8272\n",
            "Epoch 75/150\n",
            "157/157 [==============================] - 1s 5ms/step - loss: 0.1689 - accuracy: 0.8723 - val_loss: 0.2260 - val_accuracy: 0.8255\n",
            "Epoch 76/150\n",
            "157/157 [==============================] - 1s 6ms/step - loss: 0.1674 - accuracy: 0.8715 - val_loss: 0.2267 - val_accuracy: 0.8238\n",
            "Epoch 77/150\n",
            "157/157 [==============================] - 1s 6ms/step - loss: 0.1669 - accuracy: 0.8743 - val_loss: 0.2209 - val_accuracy: 0.8374\n",
            "Epoch 78/150\n",
            "157/157 [==============================] - 1s 6ms/step - loss: 0.1665 - accuracy: 0.8726 - val_loss: 0.2246 - val_accuracy: 0.8289\n",
            "Epoch 79/150\n",
            "157/157 [==============================] - 1s 5ms/step - loss: 0.1676 - accuracy: 0.8713 - val_loss: 0.2191 - val_accuracy: 0.8357\n",
            "Epoch 80/150\n",
            "157/157 [==============================] - 1s 5ms/step - loss: 0.1640 - accuracy: 0.8781 - val_loss: 0.2201 - val_accuracy: 0.8306\n",
            "Epoch 81/150\n",
            "157/157 [==============================] - 1s 6ms/step - loss: 0.1639 - accuracy: 0.8757 - val_loss: 0.2188 - val_accuracy: 0.8264\n",
            "Epoch 82/150\n",
            "157/157 [==============================] - 1s 6ms/step - loss: 0.1635 - accuracy: 0.8736 - val_loss: 0.2170 - val_accuracy: 0.8383\n",
            "Epoch 83/150\n",
            "157/157 [==============================] - 1s 5ms/step - loss: 0.1620 - accuracy: 0.8760 - val_loss: 0.2251 - val_accuracy: 0.8247\n",
            "Epoch 84/150\n",
            "157/157 [==============================] - 1s 5ms/step - loss: 0.1619 - accuracy: 0.8762 - val_loss: 0.2241 - val_accuracy: 0.8213\n",
            "Epoch 85/150\n",
            "157/157 [==============================] - 1s 5ms/step - loss: 0.1609 - accuracy: 0.8770 - val_loss: 0.2150 - val_accuracy: 0.8366\n",
            "Epoch 86/150\n",
            "157/157 [==============================] - 1s 5ms/step - loss: 0.1597 - accuracy: 0.8764 - val_loss: 0.2178 - val_accuracy: 0.8255\n",
            "Epoch 87/150\n",
            "157/157 [==============================] - 1s 6ms/step - loss: 0.1605 - accuracy: 0.8743 - val_loss: 0.2146 - val_accuracy: 0.8340\n",
            "Epoch 88/150\n",
            "157/157 [==============================] - 1s 5ms/step - loss: 0.1585 - accuracy: 0.8804 - val_loss: 0.2181 - val_accuracy: 0.8272\n",
            "Epoch 89/150\n",
            "157/157 [==============================] - 1s 5ms/step - loss: 0.1586 - accuracy: 0.8802 - val_loss: 0.2137 - val_accuracy: 0.8426\n",
            "Epoch 90/150\n",
            "157/157 [==============================] - 1s 6ms/step - loss: 0.1574 - accuracy: 0.8804 - val_loss: 0.2148 - val_accuracy: 0.8391\n",
            "Epoch 91/150\n",
            "157/157 [==============================] - 1s 6ms/step - loss: 0.1573 - accuracy: 0.8815 - val_loss: 0.2156 - val_accuracy: 0.8434\n",
            "Epoch 92/150\n",
            "157/157 [==============================] - 1s 5ms/step - loss: 0.1563 - accuracy: 0.8830 - val_loss: 0.2180 - val_accuracy: 0.8383\n",
            "Epoch 93/150\n",
            "157/157 [==============================] - 1s 6ms/step - loss: 0.1555 - accuracy: 0.8796 - val_loss: 0.2153 - val_accuracy: 0.8349\n",
            "Epoch 94/150\n",
            "157/157 [==============================] - 1s 6ms/step - loss: 0.1554 - accuracy: 0.8817 - val_loss: 0.2106 - val_accuracy: 0.8391\n",
            "Epoch 95/150\n",
            "157/157 [==============================] - 1s 6ms/step - loss: 0.1550 - accuracy: 0.8843 - val_loss: 0.2128 - val_accuracy: 0.8426\n",
            "Epoch 96/150\n",
            "157/157 [==============================] - 1s 6ms/step - loss: 0.1535 - accuracy: 0.8860 - val_loss: 0.2207 - val_accuracy: 0.8340\n",
            "Epoch 97/150\n",
            "157/157 [==============================] - 1s 6ms/step - loss: 0.1532 - accuracy: 0.8879 - val_loss: 0.2095 - val_accuracy: 0.8332\n",
            "Epoch 98/150\n",
            "157/157 [==============================] - 1s 6ms/step - loss: 0.1516 - accuracy: 0.8847 - val_loss: 0.2186 - val_accuracy: 0.8400\n",
            "Epoch 99/150\n",
            "157/157 [==============================] - 1s 6ms/step - loss: 0.1529 - accuracy: 0.8874 - val_loss: 0.2077 - val_accuracy: 0.8426\n",
            "Epoch 100/150\n",
            "157/157 [==============================] - 1s 6ms/step - loss: 0.1516 - accuracy: 0.8853 - val_loss: 0.2124 - val_accuracy: 0.8468\n",
            "Epoch 101/150\n",
            "157/157 [==============================] - 1s 6ms/step - loss: 0.1502 - accuracy: 0.8868 - val_loss: 0.2136 - val_accuracy: 0.8366\n",
            "Epoch 102/150\n",
            "157/157 [==============================] - 1s 5ms/step - loss: 0.1522 - accuracy: 0.8862 - val_loss: 0.2091 - val_accuracy: 0.8434\n",
            "Epoch 103/150\n",
            "157/157 [==============================] - 1s 6ms/step - loss: 0.1486 - accuracy: 0.8900 - val_loss: 0.2051 - val_accuracy: 0.8434\n",
            "Epoch 104/150\n",
            "157/157 [==============================] - 1s 5ms/step - loss: 0.1486 - accuracy: 0.8857 - val_loss: 0.2095 - val_accuracy: 0.8391\n",
            "Epoch 105/150\n",
            "157/157 [==============================] - 1s 6ms/step - loss: 0.1479 - accuracy: 0.8900 - val_loss: 0.2087 - val_accuracy: 0.8494\n",
            "Epoch 106/150\n",
            "157/157 [==============================] - 1s 6ms/step - loss: 0.1470 - accuracy: 0.8902 - val_loss: 0.2080 - val_accuracy: 0.8374\n",
            "Epoch 107/150\n",
            "157/157 [==============================] - 1s 6ms/step - loss: 0.1472 - accuracy: 0.8862 - val_loss: 0.2035 - val_accuracy: 0.8366\n",
            "Epoch 108/150\n",
            "157/157 [==============================] - 1s 6ms/step - loss: 0.1467 - accuracy: 0.8898 - val_loss: 0.2090 - val_accuracy: 0.8434\n",
            "Epoch 109/150\n",
            "157/157 [==============================] - 1s 5ms/step - loss: 0.1470 - accuracy: 0.8855 - val_loss: 0.2086 - val_accuracy: 0.8426\n",
            "Epoch 110/150\n",
            "157/157 [==============================] - 1s 6ms/step - loss: 0.1459 - accuracy: 0.8902 - val_loss: 0.2041 - val_accuracy: 0.8451\n",
            "Epoch 111/150\n",
            "157/157 [==============================] - 1s 6ms/step - loss: 0.1448 - accuracy: 0.8915 - val_loss: 0.2050 - val_accuracy: 0.8468\n",
            "Epoch 112/150\n",
            "157/157 [==============================] - 1s 6ms/step - loss: 0.1447 - accuracy: 0.8926 - val_loss: 0.2010 - val_accuracy: 0.8460\n",
            "Epoch 113/150\n",
            "157/157 [==============================] - 1s 6ms/step - loss: 0.1426 - accuracy: 0.8887 - val_loss: 0.2072 - val_accuracy: 0.8502\n",
            "Epoch 114/150\n",
            "157/157 [==============================] - 1s 5ms/step - loss: 0.1419 - accuracy: 0.8940 - val_loss: 0.2023 - val_accuracy: 0.8485\n",
            "Epoch 115/150\n",
            "157/157 [==============================] - 1s 6ms/step - loss: 0.1413 - accuracy: 0.8943 - val_loss: 0.2014 - val_accuracy: 0.8451\n",
            "Epoch 116/150\n",
            "157/157 [==============================] - 1s 5ms/step - loss: 0.1425 - accuracy: 0.8930 - val_loss: 0.2055 - val_accuracy: 0.8511\n",
            "Epoch 117/150\n",
            "157/157 [==============================] - 1s 5ms/step - loss: 0.1404 - accuracy: 0.8928 - val_loss: 0.2119 - val_accuracy: 0.8366\n",
            "Epoch 118/150\n",
            "157/157 [==============================] - 1s 5ms/step - loss: 0.1406 - accuracy: 0.8949 - val_loss: 0.2070 - val_accuracy: 0.8443\n",
            "Epoch 119/150\n",
            "157/157 [==============================] - 1s 5ms/step - loss: 0.1409 - accuracy: 0.8921 - val_loss: 0.2055 - val_accuracy: 0.8485\n",
            "Epoch 120/150\n",
            "157/157 [==============================] - 1s 6ms/step - loss: 0.1396 - accuracy: 0.8964 - val_loss: 0.2049 - val_accuracy: 0.8477\n",
            "Epoch 121/150\n",
            "157/157 [==============================] - 1s 5ms/step - loss: 0.1401 - accuracy: 0.8947 - val_loss: 0.2016 - val_accuracy: 0.8477\n",
            "Epoch 122/150\n",
            "157/157 [==============================] - 1s 5ms/step - loss: 0.1397 - accuracy: 0.8940 - val_loss: 0.2022 - val_accuracy: 0.8536\n",
            "Epoch 123/150\n",
            "157/157 [==============================] - 1s 5ms/step - loss: 0.1393 - accuracy: 0.8964 - val_loss: 0.2057 - val_accuracy: 0.8494\n",
            "Epoch 124/150\n",
            "157/157 [==============================] - 1s 6ms/step - loss: 0.1385 - accuracy: 0.8957 - val_loss: 0.2018 - val_accuracy: 0.8553\n",
            "Epoch 125/150\n",
            "157/157 [==============================] - 1s 5ms/step - loss: 0.1389 - accuracy: 0.8919 - val_loss: 0.2029 - val_accuracy: 0.8502\n",
            "Epoch 126/150\n",
            "157/157 [==============================] - 1s 6ms/step - loss: 0.1380 - accuracy: 0.8957 - val_loss: 0.2032 - val_accuracy: 0.8434\n",
            "Epoch 127/150\n",
            "157/157 [==============================] - 1s 5ms/step - loss: 0.1358 - accuracy: 0.8947 - val_loss: 0.2005 - val_accuracy: 0.8519\n",
            "Epoch 128/150\n",
            "157/157 [==============================] - 1s 6ms/step - loss: 0.1355 - accuracy: 0.8974 - val_loss: 0.1998 - val_accuracy: 0.8511\n",
            "Epoch 129/150\n",
            "157/157 [==============================] - 1s 5ms/step - loss: 0.1361 - accuracy: 0.8981 - val_loss: 0.2021 - val_accuracy: 0.8434\n",
            "Epoch 130/150\n",
            "157/157 [==============================] - 1s 5ms/step - loss: 0.1356 - accuracy: 0.8991 - val_loss: 0.2013 - val_accuracy: 0.8553\n",
            "Epoch 131/150\n",
            "157/157 [==============================] - 1s 5ms/step - loss: 0.1335 - accuracy: 0.8989 - val_loss: 0.1998 - val_accuracy: 0.8528\n",
            "Epoch 132/150\n",
            "157/157 [==============================] - 1s 5ms/step - loss: 0.1337 - accuracy: 0.8989 - val_loss: 0.1991 - val_accuracy: 0.8460\n",
            "Epoch 133/150\n",
            "157/157 [==============================] - 1s 5ms/step - loss: 0.1338 - accuracy: 0.8968 - val_loss: 0.2001 - val_accuracy: 0.8536\n",
            "Epoch 134/150\n",
            "157/157 [==============================] - 1s 5ms/step - loss: 0.1335 - accuracy: 0.9009 - val_loss: 0.2044 - val_accuracy: 0.8485\n",
            "Epoch 135/150\n",
            "157/157 [==============================] - 1s 6ms/step - loss: 0.1321 - accuracy: 0.8987 - val_loss: 0.1986 - val_accuracy: 0.8528\n",
            "Epoch 136/150\n",
            "157/157 [==============================] - 1s 5ms/step - loss: 0.1326 - accuracy: 0.9030 - val_loss: 0.1978 - val_accuracy: 0.8545\n",
            "Epoch 137/150\n",
            "157/157 [==============================] - 1s 6ms/step - loss: 0.1319 - accuracy: 0.9053 - val_loss: 0.1994 - val_accuracy: 0.8536\n",
            "Epoch 138/150\n",
            "157/157 [==============================] - 1s 6ms/step - loss: 0.1321 - accuracy: 0.9017 - val_loss: 0.2056 - val_accuracy: 0.8468\n",
            "Epoch 139/150\n",
            "157/157 [==============================] - 1s 6ms/step - loss: 0.1324 - accuracy: 0.9015 - val_loss: 0.2046 - val_accuracy: 0.8451\n",
            "Epoch 140/150\n",
            "157/157 [==============================] - 1s 5ms/step - loss: 0.1317 - accuracy: 0.8983 - val_loss: 0.1976 - val_accuracy: 0.8553\n",
            "Epoch 141/150\n",
            "157/157 [==============================] - 1s 5ms/step - loss: 0.1302 - accuracy: 0.9030 - val_loss: 0.1975 - val_accuracy: 0.8579\n",
            "Epoch 142/150\n",
            "157/157 [==============================] - 1s 6ms/step - loss: 0.1286 - accuracy: 0.9028 - val_loss: 0.1978 - val_accuracy: 0.8579\n",
            "Epoch 143/150\n",
            "157/157 [==============================] - 1s 5ms/step - loss: 0.1289 - accuracy: 0.9049 - val_loss: 0.1982 - val_accuracy: 0.8511\n",
            "Epoch 144/150\n",
            "157/157 [==============================] - 1s 5ms/step - loss: 0.1292 - accuracy: 0.9049 - val_loss: 0.2055 - val_accuracy: 0.8528\n",
            "Epoch 145/150\n",
            "157/157 [==============================] - 1s 6ms/step - loss: 0.1301 - accuracy: 0.9040 - val_loss: 0.1989 - val_accuracy: 0.8553\n",
            "Epoch 146/150\n",
            "157/157 [==============================] - 1s 5ms/step - loss: 0.1286 - accuracy: 0.9040 - val_loss: 0.2001 - val_accuracy: 0.8545\n",
            "Epoch 147/150\n",
            "157/157 [==============================] - 1s 5ms/step - loss: 0.1272 - accuracy: 0.9021 - val_loss: 0.1990 - val_accuracy: 0.8451\n",
            "Epoch 148/150\n",
            "157/157 [==============================] - 1s 5ms/step - loss: 0.1273 - accuracy: 0.9085 - val_loss: 0.2015 - val_accuracy: 0.8596\n",
            "Epoch 149/150\n",
            "157/157 [==============================] - 1s 5ms/step - loss: 0.1281 - accuracy: 0.9053 - val_loss: 0.1994 - val_accuracy: 0.8613\n",
            "Epoch 150/150\n",
            "157/157 [==============================] - 1s 5ms/step - loss: 0.1261 - accuracy: 0.9091 - val_loss: 0.2000 - val_accuracy: 0.8587\n"
          ]
        }
      ]
    },
    {
      "cell_type": "code",
      "source": [
        "# summarize history for accuracy\n",
        "import matplotlib.pyplot as plt\n",
        "plt.plot(history1.history['accuracy'])\n",
        "plt.plot(history1.history['val_accuracy'])\n",
        "plt.title('MLP Motor UPDRS Accuracy')\n",
        "plt.ylabel('Accuracy')\n",
        "plt.xlabel('Epoch')\n",
        "plt.legend(['Train', 'Test'], loc='upper left')\n",
        "plt.show()"
      ],
      "metadata": {
        "colab": {
          "base_uri": "https://localhost:8080/",
          "height": 295
        },
        "id": "z4icgV3-wIBA",
        "outputId": "7ab66573-e809-40e1-a01f-2550a61d7c8f"
      },
      "execution_count": null,
      "outputs": [
        {
          "output_type": "display_data",
          "data": {
            "text/plain": [
              "<Figure size 432x288 with 1 Axes>"
            ],
            "image/png": "[encoded data removed]"
          },
          "metadata": {
            "needs_background": "light"
          }
        }
      ]
    },
    {
      "cell_type": "code",
      "source": [
        "# summarize history for loss\n",
        "plt.plot(history1.history['loss'])\n",
        "plt.plot(history1.history['val_loss'])\n",
        "plt.title('MLP Motor UPDRS Loss')\n",
        "plt.ylabel('Loss')\n",
        "plt.xlabel('Epoch')\n",
        "plt.legend(['Train', 'Test'], loc='upper left')\n",
        "plt.show()"
      ],
      "metadata": {
        "colab": {
          "base_uri": "https://localhost:8080/",
          "height": 295
        },
        "id": "wfVnaog-zTKP",
        "outputId": "465fc556-6d55-4968-b265-e4322e84ca8b"
      },
      "execution_count": null,
      "outputs": [
        {
          "output_type": "display_data",
          "data": {
            "text/plain": [
              "<Figure size 432x288 with 1 Axes>"
            ],
            "image/png": "[encoded data removed]"
          },
          "metadata": {
            "needs_background": "light"
          }
        }
      ]
    },
    {
      "cell_type": "markdown",
      "source": [
        "#Confusion Matrix"
      ],
      "metadata": {
        "id": "7wSQM6W1wMxD"
      }
    },
    {
      "cell_type": "code",
      "execution_count": null,
      "metadata": {
        "id": "B3jYDC22qa5Y"
      },
      "outputs": [],
      "source": [
        "import seaborn as sn\n",
        "import matplotlib.pyplot as plt\n",
        "\n",
        "def plot_confusion_matrix(y_classified, y_true, unique):\n",
        "  # Compute confusion matrix\n",
        "  c_mat = np.zeros((len(unique),len(unique)))\n",
        "  for i in range(len(y_true)):\n",
        "    c_mat[y_classified[i], y_true[i] ] += 1\n",
        "\n",
        "  group_counts = [\"{0:0.0f}\".format(value) for value in c_mat.flatten()]\n",
        "  group_percentages = [\"{0:.2%}\".format(value) for value in c_mat.flatten()/np.sum(c_mat)]\n",
        "  labels = [f\"{v1}\\n{v2}\" for v1, v2 in zip(group_counts, group_percentages)]\n",
        "  labels = np.asarray(labels).reshape(c_mat.shape[0], c_mat.shape[1])\n",
        "\n",
        "  plt.figure(figsize=(12,10))\n",
        "  sn.heatmap(c_mat, annot=labels, fmt='', cmap='rocket_r')\n",
        "  plt.title(\"Confusion Matrix\")\n",
        "  plt.ylabel('Output Class')\n",
        "  plt.xlabel('Target Class')"
      ]
    },
    {
      "cell_type": "markdown",
      "source": [
        "#Use a Binary Classifier "
      ],
      "metadata": {
        "id": "WtN-7J-bH0Nw"
      }
    },
    {
      "cell_type": "code",
      "source": [
        "def label_binary(label, array):\n",
        "  for i in range(len(array)):\n",
        "    if(array[i] == label):\n",
        "      array[i] = 1\n",
        "    else:\n",
        "      array[i] = 0\n",
        "  return array"
      ],
      "metadata": {
        "id": "ryEaz8ihH3Cm"
      },
      "execution_count": null,
      "outputs": []
    },
    {
      "cell_type": "code",
      "source": [
        "X_train, X_test, y_train, y_test = train_test_split(X, y_total, train_size = 0.8)"
      ],
      "metadata": {
        "id": "w3XLc0JIH4EH"
      },
      "execution_count": null,
      "outputs": []
    },
    {
      "cell_type": "code",
      "source": [
        "y_test_conv = label_binary(32, np.array(y_test))\n",
        "y_train_conv = label_binary(32, np.array(y_train))"
      ],
      "metadata": {
        "id": "7s9XCq23IFRr"
      },
      "execution_count": null,
      "outputs": []
    },
    {
      "cell_type": "code",
      "source": [
        "y_train_motor = keras.utils.to_categorical(categorize(y_train_conv))\n",
        "y_test_motor = keras.utils.to_categorical(categorize(y_test_conv))"
      ],
      "metadata": {
        "colab": {
          "base_uri": "https://localhost:8080/",
          "height": 304
        },
        "id": "jQBrm-lyJZwp",
        "outputId": "23d9d508-1399-4cf6-eece-21958c8bba92"
      },
      "execution_count": null,
      "outputs": [
        {
          "output_type": "error",
          "ename": "AttributeError",
          "evalue": "ignored",
          "traceback": [
            "\u001b[0;31m---------------------------------------------------------------------------\u001b[0m",
            "\u001b[0;31mAttributeError\u001b[0m                            Traceback (most recent call last)",
            "\u001b[0;32m<ipython-input-38-7e262ad5b732>\u001b[0m in \u001b[0;36m<module>\u001b[0;34m()\u001b[0m\n\u001b[0;32m----> 1\u001b[0;31m \u001b[0my_train_motor\u001b[0m \u001b[0;34m=\u001b[0m \u001b[0mkeras\u001b[0m\u001b[0;34m.\u001b[0m\u001b[0mutils\u001b[0m\u001b[0;34m.\u001b[0m\u001b[0mto_categorical\u001b[0m\u001b[0;34m(\u001b[0m\u001b[0mcategorize\u001b[0m\u001b[0;34m(\u001b[0m\u001b[0my_train_conv\u001b[0m\u001b[0;34m)\u001b[0m\u001b[0;34m)\u001b[0m\u001b[0;34m\u001b[0m\u001b[0;34m\u001b[0m\u001b[0m\n\u001b[0m\u001b[1;32m      2\u001b[0m \u001b[0my_test_motor\u001b[0m \u001b[0;34m=\u001b[0m \u001b[0mkeras\u001b[0m\u001b[0;34m.\u001b[0m\u001b[0mutils\u001b[0m\u001b[0;34m.\u001b[0m\u001b[0mto_categorical\u001b[0m\u001b[0;34m(\u001b[0m\u001b[0mcategorize\u001b[0m\u001b[0;34m(\u001b[0m\u001b[0my_test_conv\u001b[0m\u001b[0;34m)\u001b[0m\u001b[0;34m)\u001b[0m\u001b[0;34m\u001b[0m\u001b[0;34m\u001b[0m\u001b[0m\n",
            "\u001b[0;32m<ipython-input-16-5ecb9825d9dc>\u001b[0m in \u001b[0;36mcategorize\u001b[0;34m(labels)\u001b[0m\n\u001b[1;32m      4\u001b[0m \u001b[0;32mdef\u001b[0m \u001b[0mcategorize\u001b[0m\u001b[0;34m(\u001b[0m\u001b[0mlabels\u001b[0m\u001b[0;34m)\u001b[0m\u001b[0;34m:\u001b[0m\u001b[0;34m\u001b[0m\u001b[0;34m\u001b[0m\u001b[0m\n\u001b[1;32m      5\u001b[0m   \u001b[0;31m# Sort the data\u001b[0m\u001b[0;34m\u001b[0m\u001b[0;34m\u001b[0m\u001b[0;34m\u001b[0m\u001b[0m\n\u001b[0;32m----> 6\u001b[0;31m   \u001b[0mtotal_labels\u001b[0m \u001b[0;34m=\u001b[0m \u001b[0mnp\u001b[0m\u001b[0;34m.\u001b[0m\u001b[0msort\u001b[0m\u001b[0;34m(\u001b[0m\u001b[0mlabels\u001b[0m\u001b[0;34m.\u001b[0m\u001b[0munique\u001b[0m\u001b[0;34m(\u001b[0m\u001b[0;34m)\u001b[0m\u001b[0;34m)\u001b[0m\u001b[0;34m\u001b[0m\u001b[0;34m\u001b[0m\u001b[0m\n\u001b[0m\u001b[1;32m      7\u001b[0m \u001b[0;34m\u001b[0m\u001b[0m\n\u001b[1;32m      8\u001b[0m   \u001b[0;31m# Map the labels\u001b[0m\u001b[0;34m\u001b[0m\u001b[0;34m\u001b[0m\u001b[0;34m\u001b[0m\u001b[0m\n",
            "\u001b[0;31mAttributeError\u001b[0m: 'numpy.ndarray' object has no attribute 'unique'"
          ]
        }
      ]
    },
    {
      "cell_type": "code",
      "source": [
        "# create keras model with 19-30-30-33 configuration with relu and softmax activation\n",
        "motor = tf.keras.models.Sequential([\n",
        "    tf.keras.layers.Dense(30, input_dim=19, activation='relu'),\n",
        "    tf.keras.layers.Dense(30, activation='relu'),\n",
        "    tf.keras.layers.Dense((y_train_motor).shape[1], activation='softmax')])"
      ],
      "metadata": {
        "id": "e6cSGQEPJeVo"
      },
      "execution_count": null,
      "outputs": []
    },
    {
      "cell_type": "code",
      "source": [
        "# compile the keras model\n",
        "motor.compile(loss='binary_crossentropy', optimizer='adam', \n",
        "              metrics=['accuracy'])"
      ],
      "metadata": {
        "id": "yEsRthYAJxfF"
      },
      "execution_count": null,
      "outputs": []
    },
    {
      "cell_type": "code",
      "source": [
        "# fit the keras model on the total dataset\n",
        "history1 = motor.fit(X_train_motor, y_train_motor, epochs=150, batch_size=10)"
      ],
      "metadata": {
        "colab": {
          "base_uri": "https://localhost:8080/"
        },
        "id": "ps07Xx0ZJydc",
        "outputId": "cf893a86-c555-4c26-e369-202bffc9e567"
      },
      "execution_count": null,
      "outputs": [
        {
          "output_type": "stream",
          "name": "stdout",
          "text": [
            "Epoch 1/150\n",
            "24/24 [==============================] - 1s 3ms/step - loss: 0.6469 - accuracy: 0.0513\n",
            "Epoch 2/150\n",
            "24/24 [==============================] - 0s 3ms/step - loss: 0.5321 - accuracy: 0.0641\n",
            "Epoch 3/150\n",
            "24/24 [==============================] - 0s 3ms/step - loss: 0.3665 - accuracy: 0.0598\n",
            "Epoch 4/150\n",
            "24/24 [==============================] - 0s 3ms/step - loss: 0.2251 - accuracy: 0.0598\n",
            "Epoch 5/150\n",
            "24/24 [==============================] - 0s 3ms/step - loss: 0.1700 - accuracy: 0.0513\n",
            "Epoch 6/150\n",
            "24/24 [==============================] - 0s 3ms/step - loss: 0.1536 - accuracy: 0.0641\n",
            "Epoch 7/150\n",
            "24/24 [==============================] - 0s 3ms/step - loss: 0.1468 - accuracy: 0.0641\n",
            "Epoch 8/150\n",
            "24/24 [==============================] - 0s 3ms/step - loss: 0.1422 - accuracy: 0.0940\n",
            "Epoch 9/150\n",
            "24/24 [==============================] - 0s 3ms/step - loss: 0.1392 - accuracy: 0.0940\n",
            "Epoch 10/150\n",
            "24/24 [==============================] - 0s 3ms/step - loss: 0.1367 - accuracy: 0.1026\n",
            "Epoch 11/150\n",
            "24/24 [==============================] - 0s 3ms/step - loss: 0.1348 - accuracy: 0.1026\n",
            "Epoch 12/150\n",
            "24/24 [==============================] - 0s 3ms/step - loss: 0.1330 - accuracy: 0.1026\n",
            "Epoch 13/150\n",
            "24/24 [==============================] - 0s 3ms/step - loss: 0.1315 - accuracy: 0.1111\n",
            "Epoch 14/150\n",
            "24/24 [==============================] - 0s 3ms/step - loss: 0.1300 - accuracy: 0.1111\n",
            "Epoch 15/150\n",
            "24/24 [==============================] - 0s 3ms/step - loss: 0.1287 - accuracy: 0.1197\n",
            "Epoch 16/150\n",
            "24/24 [==============================] - 0s 3ms/step - loss: 0.1274 - accuracy: 0.1325\n",
            "Epoch 17/150\n",
            "24/24 [==============================] - 0s 3ms/step - loss: 0.1262 - accuracy: 0.1282\n",
            "Epoch 18/150\n",
            "24/24 [==============================] - 0s 3ms/step - loss: 0.1249 - accuracy: 0.1282\n",
            "Epoch 19/150\n",
            "24/24 [==============================] - 0s 3ms/step - loss: 0.1236 - accuracy: 0.1496\n",
            "Epoch 20/150\n",
            "24/24 [==============================] - 0s 3ms/step - loss: 0.1226 - accuracy: 0.1709\n",
            "Epoch 21/150\n",
            "24/24 [==============================] - 0s 3ms/step - loss: 0.1215 - accuracy: 0.1624\n",
            "Epoch 22/150\n",
            "24/24 [==============================] - 0s 3ms/step - loss: 0.1206 - accuracy: 0.1709\n",
            "Epoch 23/150\n",
            "24/24 [==============================] - 0s 3ms/step - loss: 0.1196 - accuracy: 0.1880\n",
            "Epoch 24/150\n",
            "24/24 [==============================] - 0s 3ms/step - loss: 0.1186 - accuracy: 0.1838\n",
            "Epoch 25/150\n",
            "24/24 [==============================] - 0s 3ms/step - loss: 0.1178 - accuracy: 0.1838\n",
            "Epoch 26/150\n",
            "24/24 [==============================] - 0s 3ms/step - loss: 0.1167 - accuracy: 0.2051\n",
            "Epoch 27/150\n",
            "24/24 [==============================] - 0s 3ms/step - loss: 0.1159 - accuracy: 0.2179\n",
            "Epoch 28/150\n",
            "24/24 [==============================] - 0s 3ms/step - loss: 0.1152 - accuracy: 0.2051\n",
            "Epoch 29/150\n",
            "24/24 [==============================] - 0s 3ms/step - loss: 0.1144 - accuracy: 0.2265\n",
            "Epoch 30/150\n",
            "24/24 [==============================] - 0s 3ms/step - loss: 0.1136 - accuracy: 0.2222\n",
            "Epoch 31/150\n",
            "24/24 [==============================] - 0s 3ms/step - loss: 0.1128 - accuracy: 0.2137\n",
            "Epoch 32/150\n",
            "24/24 [==============================] - 0s 3ms/step - loss: 0.1119 - accuracy: 0.2308\n",
            "Epoch 33/150\n",
            "24/24 [==============================] - 0s 3ms/step - loss: 0.1112 - accuracy: 0.2265\n",
            "Epoch 34/150\n",
            "24/24 [==============================] - 0s 3ms/step - loss: 0.1104 - accuracy: 0.2479\n",
            "Epoch 35/150\n",
            "24/24 [==============================] - 0s 3ms/step - loss: 0.1096 - accuracy: 0.2393\n",
            "Epoch 36/150\n",
            "24/24 [==============================] - 0s 3ms/step - loss: 0.1090 - accuracy: 0.2564\n",
            "Epoch 37/150\n",
            "24/24 [==============================] - 0s 3ms/step - loss: 0.1082 - accuracy: 0.2479\n",
            "Epoch 38/150\n",
            "24/24 [==============================] - 0s 3ms/step - loss: 0.1076 - accuracy: 0.2479\n",
            "Epoch 39/150\n",
            "24/24 [==============================] - 0s 3ms/step - loss: 0.1067 - accuracy: 0.2521\n",
            "Epoch 40/150\n",
            "24/24 [==============================] - 0s 3ms/step - loss: 0.1062 - accuracy: 0.2564\n",
            "Epoch 41/150\n",
            "24/24 [==============================] - 0s 3ms/step - loss: 0.1055 - accuracy: 0.2607\n",
            "Epoch 42/150\n",
            "24/24 [==============================] - 0s 3ms/step - loss: 0.1049 - accuracy: 0.2735\n",
            "Epoch 43/150\n",
            "24/24 [==============================] - 0s 3ms/step - loss: 0.1040 - accuracy: 0.2863\n",
            "Epoch 44/150\n",
            "24/24 [==============================] - 0s 3ms/step - loss: 0.1034 - accuracy: 0.3034\n",
            "Epoch 45/150\n",
            "24/24 [==============================] - 0s 3ms/step - loss: 0.1031 - accuracy: 0.2991\n",
            "Epoch 46/150\n",
            "24/24 [==============================] - 0s 3ms/step - loss: 0.1022 - accuracy: 0.3120\n",
            "Epoch 47/150\n",
            "24/24 [==============================] - 0s 3ms/step - loss: 0.1015 - accuracy: 0.2949\n",
            "Epoch 48/150\n",
            "24/24 [==============================] - 0s 3ms/step - loss: 0.1010 - accuracy: 0.2991\n",
            "Epoch 49/150\n",
            "24/24 [==============================] - 0s 3ms/step - loss: 0.1006 - accuracy: 0.2991\n",
            "Epoch 50/150\n",
            "24/24 [==============================] - 0s 3ms/step - loss: 0.1000 - accuracy: 0.3034\n",
            "Epoch 51/150\n",
            "24/24 [==============================] - 0s 3ms/step - loss: 0.0993 - accuracy: 0.3034\n",
            "Epoch 52/150\n",
            "24/24 [==============================] - 0s 3ms/step - loss: 0.0987 - accuracy: 0.3291\n",
            "Epoch 53/150\n",
            "24/24 [==============================] - 0s 3ms/step - loss: 0.0979 - accuracy: 0.3291\n",
            "Epoch 54/150\n",
            "24/24 [==============================] - 0s 3ms/step - loss: 0.0976 - accuracy: 0.3205\n",
            "Epoch 55/150\n",
            "24/24 [==============================] - 0s 3ms/step - loss: 0.0968 - accuracy: 0.3333\n",
            "Epoch 56/150\n",
            "24/24 [==============================] - 0s 3ms/step - loss: 0.0966 - accuracy: 0.3376\n",
            "Epoch 57/150\n",
            "24/24 [==============================] - 0s 3ms/step - loss: 0.0957 - accuracy: 0.3419\n",
            "Epoch 58/150\n",
            "24/24 [==============================] - 0s 3ms/step - loss: 0.0954 - accuracy: 0.3462\n",
            "Epoch 59/150\n",
            "24/24 [==============================] - 0s 3ms/step - loss: 0.0948 - accuracy: 0.3632\n",
            "Epoch 60/150\n",
            "24/24 [==============================] - 0s 3ms/step - loss: 0.0942 - accuracy: 0.3504\n",
            "Epoch 61/150\n",
            "24/24 [==============================] - 0s 3ms/step - loss: 0.0937 - accuracy: 0.3718\n",
            "Epoch 62/150\n",
            "24/24 [==============================] - 0s 3ms/step - loss: 0.0932 - accuracy: 0.3632\n",
            "Epoch 63/150\n",
            "24/24 [==============================] - 0s 3ms/step - loss: 0.0929 - accuracy: 0.3632\n",
            "Epoch 64/150\n",
            "24/24 [==============================] - 0s 3ms/step - loss: 0.0922 - accuracy: 0.3846\n",
            "Epoch 65/150\n",
            "24/24 [==============================] - 0s 3ms/step - loss: 0.0917 - accuracy: 0.3889\n",
            "Epoch 66/150\n",
            "24/24 [==============================] - 0s 3ms/step - loss: 0.0911 - accuracy: 0.3889\n",
            "Epoch 67/150\n",
            "24/24 [==============================] - 0s 3ms/step - loss: 0.0905 - accuracy: 0.3974\n",
            "Epoch 68/150\n",
            "24/24 [==============================] - 0s 3ms/step - loss: 0.0902 - accuracy: 0.4145\n",
            "Epoch 69/150\n",
            "24/24 [==============================] - 0s 3ms/step - loss: 0.0897 - accuracy: 0.4188\n",
            "Epoch 70/150\n",
            "24/24 [==============================] - 0s 3ms/step - loss: 0.0894 - accuracy: 0.4103\n",
            "Epoch 71/150\n",
            "24/24 [==============================] - 0s 3ms/step - loss: 0.0887 - accuracy: 0.4274\n",
            "Epoch 72/150\n",
            "24/24 [==============================] - 0s 3ms/step - loss: 0.0884 - accuracy: 0.4402\n",
            "Epoch 73/150\n",
            "24/24 [==============================] - 0s 3ms/step - loss: 0.0878 - accuracy: 0.4316\n",
            "Epoch 74/150\n",
            "24/24 [==============================] - 0s 3ms/step - loss: 0.0871 - accuracy: 0.4359\n",
            "Epoch 75/150\n",
            "24/24 [==============================] - 0s 3ms/step - loss: 0.0869 - accuracy: 0.4359\n",
            "Epoch 76/150\n",
            "24/24 [==============================] - 0s 3ms/step - loss: 0.0867 - accuracy: 0.4359\n",
            "Epoch 77/150\n",
            "24/24 [==============================] - 0s 3ms/step - loss: 0.0859 - accuracy: 0.4487\n",
            "Epoch 78/150\n",
            "24/24 [==============================] - 0s 3ms/step - loss: 0.0856 - accuracy: 0.4316\n",
            "Epoch 79/150\n",
            "24/24 [==============================] - 0s 3ms/step - loss: 0.0850 - accuracy: 0.4402\n",
            "Epoch 80/150\n",
            "24/24 [==============================] - 0s 3ms/step - loss: 0.0847 - accuracy: 0.4487\n",
            "Epoch 81/150\n",
            "24/24 [==============================] - 0s 3ms/step - loss: 0.0842 - accuracy: 0.4744\n",
            "Epoch 82/150\n",
            "24/24 [==============================] - 0s 3ms/step - loss: 0.0839 - accuracy: 0.4744\n",
            "Epoch 83/150\n",
            "24/24 [==============================] - 0s 3ms/step - loss: 0.0833 - accuracy: 0.4487\n",
            "Epoch 84/150\n",
            "24/24 [==============================] - 0s 3ms/step - loss: 0.0830 - accuracy: 0.4658\n",
            "Epoch 85/150\n",
            "24/24 [==============================] - 0s 3ms/step - loss: 0.0828 - accuracy: 0.4872\n",
            "Epoch 86/150\n",
            "24/24 [==============================] - 0s 3ms/step - loss: 0.0821 - accuracy: 0.4701\n",
            "Epoch 87/150\n",
            "24/24 [==============================] - 0s 3ms/step - loss: 0.0818 - accuracy: 0.4744\n",
            "Epoch 88/150\n",
            "24/24 [==============================] - 0s 3ms/step - loss: 0.0813 - accuracy: 0.4829\n",
            "Epoch 89/150\n",
            "24/24 [==============================] - 0s 3ms/step - loss: 0.0809 - accuracy: 0.4786\n",
            "Epoch 90/150\n",
            "24/24 [==============================] - 0s 3ms/step - loss: 0.0803 - accuracy: 0.4786\n",
            "Epoch 91/150\n",
            "24/24 [==============================] - 0s 3ms/step - loss: 0.0804 - accuracy: 0.4915\n",
            "Epoch 92/150\n",
            "24/24 [==============================] - 0s 3ms/step - loss: 0.0798 - accuracy: 0.4872\n",
            "Epoch 93/150\n",
            "24/24 [==============================] - 0s 3ms/step - loss: 0.0795 - accuracy: 0.4957\n",
            "Epoch 94/150\n",
            "24/24 [==============================] - 0s 3ms/step - loss: 0.0789 - accuracy: 0.4957\n",
            "Epoch 95/150\n",
            "24/24 [==============================] - 0s 3ms/step - loss: 0.0786 - accuracy: 0.4872\n",
            "Epoch 96/150\n",
            "24/24 [==============================] - 0s 3ms/step - loss: 0.0781 - accuracy: 0.4915\n",
            "Epoch 97/150\n",
            "24/24 [==============================] - 0s 3ms/step - loss: 0.0779 - accuracy: 0.4915\n",
            "Epoch 98/150\n",
            "24/24 [==============================] - 0s 3ms/step - loss: 0.0773 - accuracy: 0.5128\n",
            "Epoch 99/150\n",
            "24/24 [==============================] - 0s 3ms/step - loss: 0.0772 - accuracy: 0.4957\n",
            "Epoch 100/150\n",
            "24/24 [==============================] - 0s 3ms/step - loss: 0.0767 - accuracy: 0.5043\n",
            "Epoch 101/150\n",
            "24/24 [==============================] - 0s 3ms/step - loss: 0.0762 - accuracy: 0.5085\n",
            "Epoch 102/150\n",
            "24/24 [==============================] - 0s 3ms/step - loss: 0.0758 - accuracy: 0.5128\n",
            "Epoch 103/150\n",
            "24/24 [==============================] - 0s 3ms/step - loss: 0.0755 - accuracy: 0.5256\n",
            "Epoch 104/150\n",
            "24/24 [==============================] - 0s 3ms/step - loss: 0.0752 - accuracy: 0.5043\n",
            "Epoch 105/150\n",
            "24/24 [==============================] - 0s 3ms/step - loss: 0.0748 - accuracy: 0.5128\n",
            "Epoch 106/150\n",
            "24/24 [==============================] - 0s 3ms/step - loss: 0.0746 - accuracy: 0.5214\n",
            "Epoch 107/150\n",
            "24/24 [==============================] - 0s 3ms/step - loss: 0.0740 - accuracy: 0.5385\n",
            "Epoch 108/150\n",
            "24/24 [==============================] - 0s 3ms/step - loss: 0.0736 - accuracy: 0.5342\n",
            "Epoch 109/150\n",
            "24/24 [==============================] - 0s 3ms/step - loss: 0.0734 - accuracy: 0.5299\n",
            "Epoch 110/150\n",
            "24/24 [==============================] - 0s 3ms/step - loss: 0.0733 - accuracy: 0.5256\n",
            "Epoch 111/150\n",
            "24/24 [==============================] - 0s 3ms/step - loss: 0.0728 - accuracy: 0.5470\n",
            "Epoch 112/150\n",
            "24/24 [==============================] - 0s 3ms/step - loss: 0.0722 - accuracy: 0.5556\n",
            "Epoch 113/150\n",
            "24/24 [==============================] - 0s 3ms/step - loss: 0.0723 - accuracy: 0.5385\n",
            "Epoch 114/150\n",
            "24/24 [==============================] - 0s 3ms/step - loss: 0.0720 - accuracy: 0.5385\n",
            "Epoch 115/150\n",
            "24/24 [==============================] - 0s 3ms/step - loss: 0.0714 - accuracy: 0.5342\n",
            "Epoch 116/150\n",
            "24/24 [==============================] - 0s 3ms/step - loss: 0.0712 - accuracy: 0.5342\n",
            "Epoch 117/150\n",
            "24/24 [==============================] - 0s 3ms/step - loss: 0.0708 - accuracy: 0.5641\n",
            "Epoch 118/150\n",
            "24/24 [==============================] - 0s 3ms/step - loss: 0.0703 - accuracy: 0.5556\n",
            "Epoch 119/150\n",
            "24/24 [==============================] - 0s 3ms/step - loss: 0.0702 - accuracy: 0.5513\n",
            "Epoch 120/150\n",
            "24/24 [==============================] - 0s 3ms/step - loss: 0.0698 - accuracy: 0.5556\n",
            "Epoch 121/150\n",
            "24/24 [==============================] - 0s 3ms/step - loss: 0.0695 - accuracy: 0.5556\n",
            "Epoch 122/150\n",
            "24/24 [==============================] - 0s 3ms/step - loss: 0.0693 - accuracy: 0.5556\n",
            "Epoch 123/150\n",
            "24/24 [==============================] - 0s 3ms/step - loss: 0.0693 - accuracy: 0.5641\n",
            "Epoch 124/150\n",
            "24/24 [==============================] - 0s 3ms/step - loss: 0.0685 - accuracy: 0.5556\n",
            "Epoch 125/150\n",
            "24/24 [==============================] - 0s 3ms/step - loss: 0.0682 - accuracy: 0.5598\n",
            "Epoch 126/150\n",
            "24/24 [==============================] - 0s 3ms/step - loss: 0.0679 - accuracy: 0.5726\n",
            "Epoch 127/150\n",
            "24/24 [==============================] - 0s 3ms/step - loss: 0.0676 - accuracy: 0.5641\n",
            "Epoch 128/150\n",
            "24/24 [==============================] - 0s 3ms/step - loss: 0.0671 - accuracy: 0.5769\n",
            "Epoch 129/150\n",
            "24/24 [==============================] - 0s 3ms/step - loss: 0.0672 - accuracy: 0.5726\n",
            "Epoch 130/150\n",
            "24/24 [==============================] - 0s 3ms/step - loss: 0.0664 - accuracy: 0.5684\n",
            "Epoch 131/150\n",
            "24/24 [==============================] - 0s 3ms/step - loss: 0.0662 - accuracy: 0.5769\n",
            "Epoch 132/150\n",
            "24/24 [==============================] - 0s 3ms/step - loss: 0.0659 - accuracy: 0.5812\n",
            "Epoch 133/150\n",
            "24/24 [==============================] - 0s 3ms/step - loss: 0.0658 - accuracy: 0.5684\n",
            "Epoch 134/150\n",
            "24/24 [==============================] - 0s 3ms/step - loss: 0.0652 - accuracy: 0.5897\n",
            "Epoch 135/150\n",
            "24/24 [==============================] - 0s 3ms/step - loss: 0.0649 - accuracy: 0.5983\n",
            "Epoch 136/150\n",
            "24/24 [==============================] - 0s 3ms/step - loss: 0.0646 - accuracy: 0.6026\n",
            "Epoch 137/150\n",
            "24/24 [==============================] - 0s 3ms/step - loss: 0.0643 - accuracy: 0.6068\n",
            "Epoch 138/150\n",
            "24/24 [==============================] - 0s 3ms/step - loss: 0.0642 - accuracy: 0.5983\n",
            "Epoch 139/150\n",
            "24/24 [==============================] - 0s 4ms/step - loss: 0.0637 - accuracy: 0.6154\n",
            "Epoch 140/150\n",
            "24/24 [==============================] - 0s 3ms/step - loss: 0.0636 - accuracy: 0.6239\n",
            "Epoch 141/150\n",
            "24/24 [==============================] - 0s 3ms/step - loss: 0.0631 - accuracy: 0.6239\n",
            "Epoch 142/150\n",
            "24/24 [==============================] - 0s 3ms/step - loss: 0.0627 - accuracy: 0.6282\n",
            "Epoch 143/150\n",
            "24/24 [==============================] - 0s 3ms/step - loss: 0.0625 - accuracy: 0.6368\n",
            "Epoch 144/150\n",
            "24/24 [==============================] - 0s 3ms/step - loss: 0.0619 - accuracy: 0.6239\n",
            "Epoch 145/150\n",
            "24/24 [==============================] - 0s 3ms/step - loss: 0.0619 - accuracy: 0.6154\n",
            "Epoch 146/150\n",
            "24/24 [==============================] - 0s 3ms/step - loss: 0.0616 - accuracy: 0.6368\n",
            "Epoch 147/150\n",
            "24/24 [==============================] - 0s 3ms/step - loss: 0.0613 - accuracy: 0.6282\n",
            "Epoch 148/150\n",
            "24/24 [==============================] - 0s 3ms/step - loss: 0.0611 - accuracy: 0.6325\n",
            "Epoch 149/150\n",
            "24/24 [==============================] - 0s 3ms/step - loss: 0.0608 - accuracy: 0.6239\n",
            "Epoch 150/150\n",
            "24/24 [==============================] - 0s 3ms/step - loss: 0.0605 - accuracy: 0.6538\n"
          ]
        }
      ]
    },
    {
      "cell_type": "code",
      "source": [
        "# summarize history for accuracy\n",
        "import matplotlib.pyplot as plt\n",
        "plt.plot(history1.history['accuracy'])\n",
        "plt.title('MLP Motor UPDRS Accuracy')\n",
        "plt.ylabel('Accuracy')\n",
        "plt.xlabel('Epoch')\n",
        "plt.legend(['Train', 'Test'], loc='upper left')\n",
        "plt.show()"
      ],
      "metadata": {
        "id": "fBz8sAftJ870"
      },
      "execution_count": null,
      "outputs": []
    },
    {
      "cell_type": "markdown",
      "source": [
        "#Evaluate Total UPDRS Model"
      ],
      "metadata": {
        "id": "Um1JLAn6zAVm"
      }
    },
    {
      "cell_type": "code",
      "source": [
        "score = total.evaluate(X_test_total, y_test_total, verbose=0)\n",
        "print(\"Test loss:\", score[0])\n",
        "print(\"Test accuracy:\", score[1])\n",
        "y_classified = np.argmax(total.predict(X_test_total), axis=1)\n",
        "y_true = np.argmax(y_test_total, axis=1)\n",
        "plot_confusion_matrix(y_classified, y_true, np.unique(y_total))\n",
        "print()"
      ],
      "metadata": {
        "id": "dqM32i8CuLKW",
        "colab": {
          "base_uri": "https://localhost:8080/",
          "height": 673
        },
        "outputId": "cac4e3ca-919c-4fdf-9b89-fc42314babab"
      },
      "execution_count": null,
      "outputs": [
        {
          "output_type": "stream",
          "name": "stdout",
          "text": [
            "Test loss: 0.18329855799674988\n",
            "Test accuracy: 0.8680850863456726\n",
            "\n"
          ]
        },
        {
          "output_type": "display_data",
          "data": {
            "text/plain": [
              "<Figure size 864x720 with 2 Axes>"
            ],
            "image/png": "[encoded data removed]"
          },
          "metadata": {
            "needs_background": "light"
          }
        }
      ]
    },
    {
      "cell_type": "code",
      "source": [
        ""
      ],
      "metadata": {
        "id": "zT-KBX8TzOlC"
      },
      "execution_count": null,
      "outputs": []
    }
  ],
  "metadata": {
    "colab": {
      "collapsed_sections": [],
      "name": "Copy of ECE539_MLP",
      "provenance": []
    },
    "kernelspec": {
      "display_name": "Python 3",
      "name": "python3"
    },
    "language_info": {
      "name": "python"
    },
    "accelerator": "GPU"
  },
  "nbformat": 4,
  "nbformat_minor": 0
}