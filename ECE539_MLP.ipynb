{
  "nbformat": 4,
  "nbformat_minor": 0,
  "metadata": {
    "colab": {
      "name": "ECE539_MLP",
      "provenance": []
    },
    "kernelspec": {
      "name": "python3",
      "display_name": "Python 3"
    },
    "language_info": {
      "name": "python"
    }
  },
  "cells": [
    {
      "cell_type": "code",
      "execution_count": 3,
      "metadata": {
        "id": "vCAapvh0pIIN"
      },
      "outputs": [],
      "source": [
        "import pandas as pd\n",
        "from sklearn.model_selection import train_test_split\n",
        "from sklearn.model_selection import RepeatedStratifiedKFold, RepeatedKFold\n",
        "from sklearn.model_selection import cross_val_score\n",
        "from numpy import mean\n",
        "from numpy import std\n",
        "import numpy as np\n",
        "import tensorflow as tf\n",
        "from tensorflow import keras"
      ]
    },
    {
      "cell_type": "markdown",
      "source": [
        "#Obtain data"
      ],
      "metadata": {
        "id": "aq0wtRVbjiiQ"
      }
    },
    {
      "cell_type": "code",
      "source": [
        "D = pd.read_csv(\"/content/drive/MyDrive/Colab Notebooks/ECE539_FinalProject/parkinsons_updrs.csv\")"
      ],
      "metadata": {
        "id": "hfSNM7a7pOv7"
      },
      "execution_count": 4,
      "outputs": []
    },
    {
      "cell_type": "code",
      "source": [
        "y_total = D[\"total_UPDRS\"]\n",
        "y_motor = D[\"motor_UPDRS\"]\n",
        "X = D.drop([\"total_UPDRS\",\"motor_UPDRS\"], axis = 1)\n",
        "y_total = y_total.round(0)\n",
        "y_motor = y_motor.round(0)"
      ],
      "metadata": {
        "id": "sJ2OHunRhrhQ"
      },
      "execution_count": 5,
      "outputs": []
    },
    {
      "cell_type": "markdown",
      "source": [
        "#Reduce dataset and split into Total and Motor UPDRS train and test sets"
      ],
      "metadata": {
        "id": "Shs9wjINjfj0"
      }
    },
    {
      "cell_type": "code",
      "source": [
        "X_use_total, X_notused, y_used_total, y_notused = train_test_split(X, y_total, train_size = 0.05)\n",
        "X_train_total, X_test_total, y_train_total, y_test_total = train_test_split(X_use_total, y_used_total, train_size = 0.8)"
      ],
      "metadata": {
        "id": "dNcR1OMvjUxw"
      },
      "execution_count": 8,
      "outputs": []
    },
    {
      "cell_type": "code",
      "source": [
        "X_use_motor, X_notused, y_used_motor, y_notused = train_test_split(X, y_motor, train_size = 0.05)\n",
        "X_train_motor, X_test_motor, y_train_motor, y_test_motor = train_test_split(X_use_motor, y_used_motor, train_size = 0.8)"
      ],
      "metadata": {
        "id": "_nlgmyYwjZOh"
      },
      "execution_count": 9,
      "outputs": []
    },
    {
      "cell_type": "markdown",
      "source": [
        "#Multilayer Perceptron"
      ],
      "metadata": {
        "id": "sR27oSU3jxyf"
      }
    },
    {
      "cell_type": "code",
      "source": [
        ""
      ],
      "metadata": {
        "id": "6sQv9d5bjcIL"
      },
      "execution_count": null,
      "outputs": []
    }
  ]
}